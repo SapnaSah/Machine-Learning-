{
 "cells": [
  {
   "cell_type": "code",
   "execution_count": 1,
   "id": "deca388c-b6b5-4615-be7a-8ba40d951fe7",
   "metadata": {},
   "outputs": [
    {
     "name": "stdout",
     "output_type": "stream",
     "text": [
      "sapna\n"
     ]
    }
   ],
   "source": [
    "print(\"sapna\")\n"
   ]
  },
  {
   "cell_type": "code",
   "execution_count": 7,
   "id": "157693f5-0c4c-47d5-b9ba-2dfb22c2a0a9",
   "metadata": {},
   "outputs": [
    {
     "name": "stdin",
     "output_type": "stream",
     "text": [
      "enter the  first number 6\n",
      "enter the  second number 8\n",
      "enter the  third number 4\n"
     ]
    },
    {
     "name": "stdout",
     "output_type": "stream",
     "text": [
      "second number is greater\n"
     ]
    }
   ],
   "source": [
    "a=int(input(\"enter the  first number\"))\n",
    "b=int(input(\"enter the  second number\"))\n",
    "c=int(input(\"enter the  third number\"))\n",
    "\n",
    "if(a>=b and a>=c):\n",
    "   print(\"first number is greater\")\n",
    "\n",
    "elif(b>=a and b>=c):\n",
    "   print(\"second number is greater\")\n",
    "   \n",
    "else:\n",
    "   print(\"third number is greater\")\n"
   ]
  },
  {
   "cell_type": "code",
   "execution_count": 14,
   "id": "169e7a1a-9421-4a3b-9ba1-1718cd4fc549",
   "metadata": {},
   "outputs": [
    {
     "name": "stdin",
     "output_type": "stream",
     "text": [
      "enter the number 8\n"
     ]
    },
    {
     "name": "stdout",
     "output_type": "stream",
     "text": [
      "even number\n"
     ]
    }
   ],
   "source": [
    "number=int(input(\"enter the number\"))\n",
    "if number%2 == 0:\n",
    "              print(\"even number\")\n",
    "else:\n",
    "              print(\"odd number\")"
   ]
  },
  {
   "cell_type": "code",
   "execution_count": 17,
   "id": "1eec8cb1-fb14-474b-8570-c5ef25173e19",
   "metadata": {},
   "outputs": [
    {
     "name": "stdin",
     "output_type": "stream",
     "text": [
      "enter the number 1\n"
     ]
    },
    {
     "name": "stdout",
     "output_type": "stream",
     "text": [
      "1\n",
      "2\n",
      "3\n",
      "4\n",
      "5\n",
      "6\n",
      "7\n",
      "8\n",
      "9\n",
      "10\n"
     ]
    }
   ],
   "source": [
    "i=int(input(\"enter the number\"))\n",
    "while i<=10: \n",
    "    print(i)\n",
    "    i=i+1"
   ]
  },
  {
   "cell_type": "code",
   "execution_count": 98,
   "id": "0029acc7-5cbb-45ce-947f-5dcb381592f7",
   "metadata": {},
   "outputs": [
    {
     "name": "stdin",
     "output_type": "stream",
     "text": [
      "enter the number 2\n"
     ]
    },
    {
     "name": "stdout",
     "output_type": "stream",
     "text": [
      "0.5\n",
      "0.3333333333333333\n",
      "0.25\n",
      "0.2\n",
      "0.16666666666666666\n",
      "0.14285714285714285\n",
      "0.125\n",
      "0.1111111111111111\n",
      "0.1\n"
     ]
    }
   ],
   "source": [
    "i=int(input(\"enter the number\"))\n",
    "for i in range (2,11):\n",
    "    print(1/i)"
   ]
  },
  {
   "cell_type": "code",
   "execution_count": 26,
   "id": "1c217ce9-530c-411c-baa0-fdd3a35c964c",
   "metadata": {},
   "outputs": [
    {
     "name": "stdout",
     "output_type": "stream",
     "text": [
      "['sapna', 'mango', 'sapna']\n",
      "<class 'list'>\n",
      "3\n"
     ]
    }
   ],
   "source": [
    "l1=[\"sapna\",\"mango\",\"sapna\"]\n",
    "print(l1)\n",
    "print(type(l1))\n",
    "print(len(l1))\n"
   ]
  },
  {
   "cell_type": "code",
   "execution_count": 27,
   "id": "38898a29-133d-4595-a418-96fa98401fbe",
   "metadata": {},
   "outputs": [
    {
     "name": "stdout",
     "output_type": "stream",
     "text": [
      "[1, 3, 5, 7, 45]\n",
      "<class 'list'>\n",
      "5\n"
     ]
    }
   ],
   "source": [
    "l2=[1,3,5,7,45]\n",
    "print(l2)\n",
    "print(type(l2))\n",
    "print(len(l2))\n"
   ]
  },
  {
   "cell_type": "code",
   "execution_count": 28,
   "id": "b897738c-8a9e-482c-b173-5d9dda294112",
   "metadata": {},
   "outputs": [
    {
     "name": "stdout",
     "output_type": "stream",
     "text": [
      "[1, 2, 3, 'q', 'c', 'd', 29, 36, 9, 11]\n",
      "<class 'list'>\n",
      "10\n"
     ]
    }
   ],
   "source": [
    "list=[1,2,3,'q','c','d',29,36,9,11]\n",
    "print(list)\n",
    "print(type(list))\n",
    "print(len(list))"
   ]
  },
  {
   "cell_type": "code",
   "execution_count": 37,
   "id": "b6f59e2c-bed3-4c0d-9af0-182f6403152e",
   "metadata": {},
   "outputs": [
    {
     "name": "stdout",
     "output_type": "stream",
     "text": [
      "[-4, -3, -2]\n"
     ]
    }
   ],
   "source": [
    "li=[-5,-4,-3,-2,-1]\n",
    "print(li[1:4])"
   ]
  },
  {
   "cell_type": "code",
   "execution_count": 40,
   "id": "2daa5f97-42df-4679-bbb4-503b9cc5d695",
   "metadata": {},
   "outputs": [
    {
     "name": "stdout",
     "output_type": "stream",
     "text": [
      "None\n",
      "[1, 2, 3, 'q', 'c', 'd', 29, 36, 9, 11, 'sapna']\n"
     ]
    }
   ],
   "source": [
    "list=[1,2,3,'q','c','d',29,36,9,11]\n",
    "print(list.append(\"sapna\"))\n",
    "print(list)"
   ]
  },
  {
   "cell_type": "code",
   "execution_count": 103,
   "id": "eedb1723-b390-496d-822e-dbe100abdc5c",
   "metadata": {},
   "outputs": [
    {
     "ename": "SyntaxError",
     "evalue": "incomplete input (525101109.py, line 2)",
     "output_type": "error",
     "traceback": [
      "\u001b[1;36m  Cell \u001b[1;32mIn[103], line 2\u001b[1;36m\u001b[0m\n\u001b[1;33m    print(list.remove(3)\u001b[0m\n\u001b[1;37m                        ^\u001b[0m\n\u001b[1;31mSyntaxError\u001b[0m\u001b[1;31m:\u001b[0m incomplete input\n"
     ]
    }
   ],
   "source": [
    "list=[1, 2, 3, 'q', 'c', 'd', 29, 36, 9, 11, 'sapna']\n",
    "print(list.remove(3)"
   ]
  },
  {
   "cell_type": "code",
   "execution_count": 44,
   "id": "a0ea0abf-775d-45b8-b693-cb85c6f9f55f",
   "metadata": {},
   "outputs": [
    {
     "name": "stdout",
     "output_type": "stream",
     "text": [
      "None\n",
      "[1, 2, 3, 'q', 'c', 15, 'd', 29, 36, 9, 11]\n"
     ]
    }
   ],
   "source": [
    "list=[1,2,3,'q','c','d',29,36,9,11]\n",
    "print(list.insert(5,15))\n",
    "print(list)"
   ]
  },
  {
   "cell_type": "code",
   "execution_count": 114,
   "id": "345e9d76-1ac8-4bd8-9877-3738953ff96c",
   "metadata": {},
   "outputs": [
    {
     "name": "stdout",
     "output_type": "stream",
     "text": [
      "[1, 3, 5, 6, 43, 6, 2, 6, [1, 40, 45, 70, 80]]\n"
     ]
    },
    {
     "ename": "TypeError",
     "evalue": "'<' not supported between instances of 'list' and 'int'",
     "output_type": "error",
     "traceback": [
      "\u001b[1;31m---------------------------------------------------------------------------\u001b[0m",
      "\u001b[1;31mTypeError\u001b[0m                                 Traceback (most recent call last)",
      "Cell \u001b[1;32mIn[114], line 5\u001b[0m\n\u001b[0;32m      3\u001b[0m \u001b[38;5;28mlist\u001b[39m\u001b[38;5;241m.\u001b[39mextend([list2])\n\u001b[0;32m      4\u001b[0m \u001b[38;5;28mprint\u001b[39m(\u001b[38;5;28mlist\u001b[39m)\n\u001b[1;32m----> 5\u001b[0m \u001b[38;5;28mlist\u001b[39m\u001b[38;5;241m.\u001b[39msort()\n",
      "\u001b[1;31mTypeError\u001b[0m: '<' not supported between instances of 'list' and 'int'"
     ]
    }
   ],
   "source": [
    "list=[1,3,5,6,43,6,2,6]\n",
    "list2=[1,40,45, 70, 80]\n",
    "list.extend([list2])\n",
    "print(list)\n",
    "list.sort()"
   ]
  },
  {
   "cell_type": "code",
   "execution_count": 57,
   "id": "8a466186-7286-4946-986f-55b488afd6e8",
   "metadata": {},
   "outputs": [
    {
     "name": "stdout",
     "output_type": "stream",
     "text": [
      "42\n",
      "<class 'int'>\n"
     ]
    }
   ],
   "source": [
    " num=42\n",
    "print(int(num))\n",
    "print(type(num))\n",
    "# print(len(num))"
   ]
  },
  {
   "cell_type": "code",
   "execution_count": 66,
   "id": "dbd961c5-d38f-422f-afae-8681005f8449",
   "metadata": {},
   "outputs": [
    {
     "name": "stdout",
     "output_type": "stream",
     "text": [
      "hello world\n",
      "<class 'str'>\n",
      "11\n"
     ]
    }
   ],
   "source": [
    "a=(\"hello world\")\n",
    "print(a)\n",
    "print(type(a))\n",
    "print(len(a))"
   ]
  },
  {
   "cell_type": "code",
   "execution_count": 67,
   "id": "be55035c-f18b-4901-95f2-45c76087814b",
   "metadata": {},
   "outputs": [
    {
     "name": "stdout",
     "output_type": "stream",
     "text": [
      "3.5\n",
      "<class 'float'>\n"
     ]
    }
   ],
   "source": [
    "a=3.5\n",
    "print(float(a))\n",
    "print(type(a))"
   ]
  },
  {
   "cell_type": "code",
   "execution_count": 73,
   "id": "f7aaa2d9-9b94-4c68-b09f-f31a0a0a4555",
   "metadata": {},
   "outputs": [
    {
     "name": "stdout",
     "output_type": "stream",
     "text": [
      "True\n",
      "<class 'bool'>\n"
     ]
    }
   ],
   "source": [
    "c=True\n",
    "print(bool(c))\n",
    "print(type(c))"
   ]
  },
  {
   "cell_type": "code",
   "execution_count": 74,
   "id": "8cf80779-f410-4f12-9a66-0bf3eba5b201",
   "metadata": {},
   "outputs": [
    {
     "name": "stdout",
     "output_type": "stream",
     "text": [
      "['sapna', 'sneha', 'kumari']\n",
      "<class 'list'>\n",
      "3\n"
     ]
    }
   ],
   "source": [
    "l=[\"sapna\",\"sneha\",\"kumari\"]\n",
    "print(l)\n",
    "print(type(l))\n",
    "print(len(l))"
   ]
  },
  {
   "cell_type": "code",
   "execution_count": 80,
   "id": "2069aa01-7079-496d-b210-3a0ff48600fd",
   "metadata": {},
   "outputs": [
    {
     "name": "stdout",
     "output_type": "stream",
     "text": [
      "{1, 3, 5, 6, 78}\n",
      "<class 'set'>\n",
      "5\n"
     ]
    }
   ],
   "source": [
    "y={1,3,5,6,78}\n",
    "print(y)\n",
    "print(type(y))\n",
    "print(len(y))"
   ]
  },
  {
   "cell_type": "code",
   "execution_count": 83,
   "id": "1a673bcf-76e8-44b0-90c6-452e7defe0c4",
   "metadata": {},
   "outputs": [
    {
     "name": "stdout",
     "output_type": "stream",
     "text": [
      "(23, 45, 56, 67)\n",
      "<class 'tuple'>\n",
      "4\n"
     ]
    }
   ],
   "source": [
    "x=(23,45,56,67)\n",
    "print(x)\n",
    "print(type(x))\n",
    "print(len(x))"
   ]
  },
  {
   "cell_type": "code",
   "execution_count": 92,
   "id": "22ff6993-94b5-4422-a8c6-ffdfe710c3bd",
   "metadata": {},
   "outputs": [
    {
     "name": "stdin",
     "output_type": "stream",
     "text": [
      "Enter x-coordinate of the first point:  2\n",
      "Enter y-coordinate of the first point:  3\n",
      "Enter x-coordinate of the second point:  4\n",
      "Enter y-coordinate of the second point:  5\n"
     ]
    },
    {
     "name": "stdout",
     "output_type": "stream",
     "text": [
      "The distance between the points (2.8284271247461903)\n"
     ]
    }
   ],
   "source": [
    "\n",
    "x1 = float(input(\"Enter x-coordinate of the first point: \"))\n",
    "y1 = float(input(\"Enter y-coordinate of the first point: \"))\n",
    "x2 = float(input(\"Enter x-coordinate of the second point: \"))\n",
    "y2 = float(input(\"Enter y-coordinate of the second point: \"))\n",
    "\n",
    "distance = math.sqrt((x2 - x1)**2 + (y2 - y1)**2)\n",
    "\n",
    "print(f\"The distance between the points ({distance})\")\n"
   ]
  },
  {
   "cell_type": "code",
   "execution_count": 96,
   "id": "8dc3535a-dc81-4c4a-a5c5-6e226ac4b294",
   "metadata": {},
   "outputs": [
    {
     "name": "stdin",
     "output_type": "stream",
     "text": [
      "Enter first number:  3\n",
      "Enter second number:  5\n"
     ]
    },
    {
     "name": "stdout",
     "output_type": "stream",
     "text": [
      "8\n"
     ]
    }
   ],
   "source": [
    "num1 = int(input(\"Enter first number: \"))\n",
    "num2 = int(input(\"Enter second number: \"))\n",
    "result=(num1+num2)\n",
    "print(result)"
   ]
  },
  {
   "cell_type": "code",
   "execution_count": 116,
   "id": "a057d7bd-7714-4aa6-8403-a4c33793598c",
   "metadata": {},
   "outputs": [
    {
     "name": "stdout",
     "output_type": "stream",
     "text": [
      "(23, 45, 56, 67)\n",
      "<class 'tuple'>\n",
      "4\n"
     ]
    }
   ],
   "source": [
    "x=(23,45,56,67)\n",
    "print(x)\n",
    "print(type(x))\n",
    "print(len(x))\n"
   ]
  },
  {
   "cell_type": "code",
   "execution_count": null,
   "id": "8c4a0cfc-9e83-45a7-8395-992bf2af5d97",
   "metadata": {},
   "outputs": [],
   "source": []
  }
 ],
 "metadata": {
  "kernelspec": {
   "display_name": "Python 3 (ipykernel)",
   "language": "python",
   "name": "python3"
  },
  "language_info": {
   "codemirror_mode": {
    "name": "ipython",
    "version": 3
   },
   "file_extension": ".py",
   "mimetype": "text/x-python",
   "name": "python",
   "nbconvert_exporter": "python",
   "pygments_lexer": "ipython3",
   "version": "3.12.7"
  }
 },
 "nbformat": 4,
 "nbformat_minor": 5
}
