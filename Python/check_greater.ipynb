{
 "cells": [
  {
   "cell_type": "markdown",
   "id": "6bb85137-5182-4d4a-8079-55eec41ca6a9",
   "metadata": {},
   "source": [
    "a=(input(int(\"enter the  first number\"))\n",
    "b=(input(int(\"enter the  second number\"))\n",
    "c=(input(int(\"enter the  third number\"))\n",
    "\n",
    "if(a>=b and a>=c):\n",
    "print(\"first number is greater\")\n",
    "\n",
    "elif(b>=a and b>=c):\n",
    "print(\"second number is greater\")\n",
    "else:\n",
    "print(\"third number is greter\")"
   ]
  },
  {
   "cell_type": "code",
   "execution_count": null,
   "id": "e06766a9-d905-476b-a3c7-51c94182ff5f",
   "metadata": {},
   "outputs": [],
   "source": []
  }
 ],
 "metadata": {
  "kernelspec": {
   "display_name": "Python 3 (ipykernel)",
   "language": "python",
   "name": "python3"
  },
  "language_info": {
   "codemirror_mode": {
    "name": "ipython",
    "version": 3
   },
   "file_extension": ".py",
   "mimetype": "text/x-python",
   "name": "python",
   "nbconvert_exporter": "python",
   "pygments_lexer": "ipython3",
   "version": "3.12.7"
  }
 },
 "nbformat": 4,
 "nbformat_minor": 5
}
