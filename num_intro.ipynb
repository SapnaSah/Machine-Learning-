{
 "cells": [
  {
   "cell_type": "code",
   "execution_count": 1,
   "id": "fecfe656-b4cd-4b6a-8738-61dc90738e60",
   "metadata": {},
   "outputs": [
    {
     "name": "stdout",
     "output_type": "stream",
     "text": [
      "[2, 3, 4, 5, 6, 7, 8, 9]\n"
     ]
    }
   ],
   "source": [
    "import numpy as np\n",
    "l1=[2,3,4,5]\n",
    "l2=[6,7,8,9]\n",
    "print(l1+l2)"
   ]
  },
  {
   "cell_type": "code",
   "execution_count": 3,
   "id": "8b6fe0ca-e5b0-4f48-96cf-600275ad295c",
   "metadata": {},
   "outputs": [
    {
     "name": "stdout",
     "output_type": "stream",
     "text": [
      "[2, 3, 4, 5, 2, 3, 4, 5, 2, 3, 4, 5, 2, 3, 4, 5, 2, 3, 4, 5, 2, 3, 4, 5]\n"
     ]
    }
   ],
   "source": [
    "l1=[2,3,4,5]\n",
    "l2=6\n",
    "print(l1*l2)"
   ]
  },
  {
   "cell_type": "code",
   "execution_count": 6,
   "id": "787c0869-08fc-475b-ba0d-cf82b5b9502d",
   "metadata": {},
   "outputs": [
    {
     "name": "stdout",
     "output_type": "stream",
     "text": [
      "[20 30 40 50]\n",
      "[60 70 80 90]\n",
      "[ 80 100 120 140]\n"
     ]
    }
   ],
   "source": [
    "a=np.array([20,30,40,50])\n",
    "b=np.array([60,70,80,90])\n",
    "print(a)\n",
    "print(b)\n",
    "print(a+b)\n"
   ]
  },
  {
   "cell_type": "code",
   "execution_count": 7,
   "id": "d1c90dcf-1793-43c6-b037-820eb0ac35be",
   "metadata": {},
   "outputs": [
    {
     "name": "stdout",
     "output_type": "stream",
     "text": [
      "[100 250 350 400]\n"
     ]
    }
   ],
   "source": [
    "a=np.array([20,50,70,80])\n",
    "b=np.array([5])\n",
    "print(a*b)"
   ]
  },
  {
   "cell_type": "code",
   "execution_count": 8,
   "id": "39f6e4ff-a74f-44dc-b0b9-6bcc45d808d7",
   "metadata": {},
   "outputs": [
    {
     "name": "stdout",
     "output_type": "stream",
     "text": [
      "['40' '50' '60']\n"
     ]
    }
   ],
   "source": [
    "a=np.array([40,50,\"60\"])\n",
    "print(a)"
   ]
  },
  {
   "cell_type": "code",
   "execution_count": 9,
   "id": "68b1867d-0573-4cdb-8aac-bf24f4a00875",
   "metadata": {},
   "outputs": [
    {
     "name": "stdout",
     "output_type": "stream",
     "text": [
      "[34.  6.  7.]\n"
     ]
    }
   ],
   "source": [
    "c=np.array([34,6,7.0])\n",
    "print(c)"
   ]
  },
  {
   "cell_type": "code",
   "execution_count": 11,
   "id": "2713b1bf-a152-4629-bcc8-160237cad546",
   "metadata": {},
   "outputs": [
    {
     "name": "stdout",
     "output_type": "stream",
     "text": [
      "[[25 35 45 65 55]\n",
      " [34 29 47 23 33]]\n"
     ]
    }
   ],
   "source": [
    "a=np.array([[25,35,45,65,55],[34,29,47,23,33]])\n",
    "print(a)"
   ]
  },
  {
   "cell_type": "code",
   "execution_count": null,
   "id": "8dcb0afa-c393-488e-bf7d-8159b3574343",
   "metadata": {},
   "outputs": [],
   "source": [
    "a=np.array([[20,30,40,50],[30,50,70]])       #this code shoe error because the  number  of array element/column are not same in here. \n",
    "print(a)"
   ]
  },
  {
   "cell_type": "code",
   "execution_count": 12,
   "id": "fc6a7ebc-6a73-4f55-a72d-6069a4fd7ff4",
   "metadata": {},
   "outputs": [
    {
     "name": "stdout",
     "output_type": "stream",
     "text": [
      "[[ 20  30  40  50]\n",
      " [100 200  40  60]\n",
      " [ 12  34  16  17]]\n"
     ]
    }
   ],
   "source": [
    "a=np.array([[20,30,40,50],[100,200,40,60],[12,34,16,17]])\n",
    "print(a)"
   ]
  },
  {
   "cell_type": "code",
   "execution_count": null,
   "id": "579cfe0f-93ef-44c2-a0b0-a396ad916a8f",
   "metadata": {},
   "outputs": [],
   "source": [
    "a=np.array([[25,35,65,55],[34,29,47,23,33]])      #this code shoe error because the  number  of array element/column are not same in here. \n",
    "print(a)"
   ]
  },
  {
   "cell_type": "code",
   "execution_count": null,
   "id": "080a9961-61e2-4f3e-81c0-cd25fdc1c456",
   "metadata": {},
   "outputs": [],
   "source": []
  }
 ],
 "metadata": {
  "kernelspec": {
   "display_name": "Python 3 (ipykernel)",
   "language": "python",
   "name": "python3"
  },
  "language_info": {
   "codemirror_mode": {
    "name": "ipython",
    "version": 3
   },
   "file_extension": ".py",
   "mimetype": "text/x-python",
   "name": "python",
   "nbconvert_exporter": "python",
   "pygments_lexer": "ipython3",
   "version": "3.12.7"
  }
 },
 "nbformat": 4,
 "nbformat_minor": 5
}
