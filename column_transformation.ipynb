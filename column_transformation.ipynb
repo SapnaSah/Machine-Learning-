{
 "cells": [
  {
   "cell_type": "code",
   "execution_count": 1,
   "id": "5ed1605a-36c9-4233-94af-75933376e129",
   "metadata": {},
   "outputs": [
    {
     "name": "stdout",
     "output_type": "stream",
     "text": [
      "sapna\n"
     ]
    }
   ],
   "source": [
    "print(\"sapna\")"
   ]
  },
  {
   "cell_type": "code",
   "execution_count": 3,
   "id": "1d1d2981-1433-4b46-9608-7e0691dea8be",
   "metadata": {},
   "outputs": [
    {
     "name": "stdout",
     "output_type": "stream",
     "text": [
      "i love self\n"
     ]
    }
   ],
   "source": [
    "print(\"i love self\")"
   ]
  },
  {
   "cell_type": "code",
   "execution_count": 4,
   "id": "5ad15c42-3454-42db-a5d6-e913c7d329f7",
   "metadata": {},
   "outputs": [
    {
     "name": "stdout",
     "output_type": "stream",
     "text": [
      "     EMP_ID     name  age  gender  degination  sallary   city      country  \\\n",
      "0    EMP001   vikash   22    male       owner     8000     mp        india   \n",
      "1    EMP002    sapna   21  female     manager    60000  bihar          usa   \n",
      "2    EMP003      ram   34    male      cahier    70000  delhi        india   \n",
      "3    EMP004  krishna   32    male   accounter    56000  delhi        china   \n",
      "4    EMP005    seeta   43  female    engineer    40000   pune      newyork   \n",
      "5    EMP006    radha   45  female  programmer    50000  rachi        korea   \n",
      "6    EMP007    mohan   26    male      tester    66000  rachi  switzerland   \n",
      "7    EMP008    shyam   29    male  programmer    45000  delhi        india   \n",
      "8    EMP009  hanuman   31    male      tester    85000    goa        india   \n",
      "9   EMP0010    meena   29  female      cahier    80000  delhi          usa   \n",
      "10   EMP002    sapna   21  female     manager    60000  bihar         irak   \n",
      "11   EMP004  krishna   32    male     teacher    45000  delhi        korea   \n",
      "\n",
      "    bonus  \n",
      "0    0.50  \n",
      "1    0.00  \n",
      "2    5.00  \n",
      "3    0.67  \n",
      "4    0.00  \n",
      "5    0.45  \n",
      "6    0.30  \n",
      "7    0.80  \n",
      "8    0.00  \n",
      "9    0.70  \n",
      "10   0.90  \n",
      "11   0.40  \n"
     ]
    }
   ],
   "source": [
    "import pandas as pd\n",
    "df=pd.read_csv(\"practice1.csv\")\n",
    "print(df)"
   ]
  },
  {
   "cell_type": "code",
   "execution_count": 1,
   "id": "7994fb86-4fb0-4650-a6f0-1d36129e14fb",
   "metadata": {},
   "outputs": [
    {
     "name": "stdout",
     "output_type": "stream",
     "text": [
      "  emp_id firstname  lastname  sallary gender\n",
      "0    em1     sapna       sah    40000      f\n",
      "1    em2    vikash  kushwaha    70000      m\n",
      "2    em3     pooja    kumari    60000      f\n",
      "3    em4     sagar     rawat    60000      m\n",
      "4    em5     niket       raj    30000      m\n",
      "5    em6      rani    thakur    50000      f\n"
     ]
    }
   ],
   "source": [
    "import pandas as pd\n",
    "data=pd.read_csv(\"student.csv\")\n",
    "print(data)"
   ]
  },
  {
   "cell_type": "code",
   "execution_count": 10,
   "id": "c76377bc-b779-498f-bbf6-3afe1927a5d7",
   "metadata": {},
   "outputs": [
    {
     "name": "stdout",
     "output_type": "stream",
     "text": [
      "  emp_id firstname  lastname  sallary gender    Bonus         fullname\n",
      "0    em1     sapna       sah    40000      f   8000.0        SAPNA sah\n",
      "1    em2    vikash  kushwaha    70000      m  14000.0  VIKASH kushwaha\n",
      "2    em3     pooja    kumari    60000      f  12000.0     POOJA kumari\n",
      "3    em4     sagar     rawat    60000      m  12000.0      SAGAR rawat\n",
      "4    em5     niket       raj    30000      m   6000.0        NIKET raj\n",
      "5    em6      rani    thakur    50000      f  10000.0      RANI thakur\n"
     ]
    }
   ],
   "source": [
    "data[\"fullname\"]=data[\"firstname\"].str.upper()+\" \"+data[\"lastname\"]\n",
    "print(data)"
   ]
  },
  {
   "cell_type": "code",
   "execution_count": 12,
   "id": "abc23ad9-206d-41a4-9e4c-fd5f05054a06",
   "metadata": {},
   "outputs": [
    {
     "name": "stdout",
     "output_type": "stream",
     "text": [
      "  emp_id firstname  lastname  sallary gender    Bonus         fullname\n",
      "0    em1     sapna       sah    40000      f   8000.0        Sapna sah\n",
      "1    em2    vikash  kushwaha    70000      m  14000.0  Vikash kushwaha\n",
      "2    em3     pooja    kumari    60000      f  12000.0     Pooja kumari\n",
      "3    em4     sagar     rawat    60000      m  12000.0      Sagar rawat\n",
      "4    em5     niket       raj    30000      m   6000.0        Niket raj\n",
      "5    em6      rani    thakur    50000      f  10000.0      Rani thakur\n"
     ]
    }
   ],
   "source": [
    "data[\"fullname\"]=data[\"firstname\"].str.capitalize()+\" \"+data[\"lastname\"]\n",
    "print(data)"
   ]
  },
  {
   "cell_type": "code",
   "execution_count": 13,
   "id": "2b38420a-f199-40b4-8513-0801e7a778dc",
   "metadata": {},
   "outputs": [
    {
     "name": "stdout",
     "output_type": "stream",
     "text": [
      "  emp_id firstname  lastname  sallary gender    Bonus         fullname\n",
      "0    em1     sapna       sah    40000      f   8000.0        Sapna Sah\n",
      "1    em2    vikash  kushwaha    70000      m  14000.0  Vikash Kushwaha\n",
      "2    em3     pooja    kumari    60000      f  12000.0     Pooja Kumari\n",
      "3    em4     sagar     rawat    60000      m  12000.0      Sagar Rawat\n",
      "4    em5     niket       raj    30000      m   6000.0        Niket Raj\n",
      "5    em6      rani    thakur    50000      f  10000.0      Rani Thakur\n"
     ]
    }
   ],
   "source": [
    "data[\"fullname\"]=data[\"firstname\"].str.capitalize()+\" \"+data[\"lastname\"].str.capitalize()\n",
    "print(data)"
   ]
  },
  {
   "cell_type": "code",
   "execution_count": 14,
   "id": "aaacd0c7-e34d-402b-8fc0-58e563519466",
   "metadata": {},
   "outputs": [
    {
     "name": "stdout",
     "output_type": "stream",
     "text": [
      "  emp_id firstname  lastname  sallary gender    Bonus         fullname\n",
      "0    em1     sapna       sah    40000      f   8000.0        Sapna Sah\n",
      "1    em2    vikash  kushwaha    70000      m  14000.0  Vikash Kushwaha\n",
      "2    em3     pooja    kumari    60000      f  12000.0     Pooja Kumari\n",
      "3    em4     sagar     rawat    60000      m  12000.0      Sagar Rawat\n",
      "4    em5     niket       raj    30000      m   6000.0        Niket Raj\n",
      "5    em6      rani    thakur    50000      f  10000.0      Rani Thakur\n"
     ]
    }
   ],
   "source": [
    "data[\"Bonus\"]=(data[\"sallary\"]/100)*20\n",
    "print(data)"
   ]
  },
  {
   "cell_type": "code",
   "execution_count": 20,
   "id": "87c00723-de63-416c-945c-c904e4339f83",
   "metadata": {},
   "outputs": [
    {
     "name": "stdout",
     "output_type": "stream",
     "text": [
      "     months\n",
      "0   january\n",
      "1  february\n",
      "2     march\n",
      "3     april\n"
     ]
    }
   ],
   "source": [
    "data={\"months\":[\"january\",\"february\",\"march\",\"april\"]}\n",
    "data=pd.DataFrame(data)\n",
    "print(data)"
   ]
  },
  {
   "cell_type": "code",
   "execution_count": 26,
   "id": "b2170810-5c3c-40f0-a005-bdb8ecb7a501",
   "metadata": {},
   "outputs": [
    {
     "name": "stdout",
     "output_type": "stream",
     "text": [
      "     months\n",
      "0   january\n",
      "1  february\n",
      "2     march\n",
      "3     april\n",
      "4       may\n",
      "5      june\n",
      "6      july\n",
      "7    august\n",
      "     months short_months\n",
      "0   january       januar\n",
      "1  february       februa\n",
      "2     march        march\n",
      "3     april        april\n",
      "4       may          may\n",
      "5      june         june\n",
      "6      july         july\n",
      "7    august       august\n"
     ]
    }
   ],
   "source": [
    "data={\"months\":[\"january\",\"february\",\"march\",\"april\",\"may\",\"june\",\"july\",\"august\"]}\n",
    "a=pd.DataFrame(data)\n",
    "print(a)\n",
    "def extract(value):\n",
    "    return value[0:6]\n",
    "a[\"short_months\"]=a[\"months\"].map(extract)\n",
    "print(a)"
   ]
  },
  {
   "cell_type": "code",
   "execution_count": null,
   "id": "0261c616-5508-46d8-8a1c-420c161d7bac",
   "metadata": {},
   "outputs": [],
   "source": []
  }
 ],
 "metadata": {
  "kernelspec": {
   "display_name": "Python 3 (ipykernel)",
   "language": "python",
   "name": "python3"
  },
  "language_info": {
   "codemirror_mode": {
    "name": "ipython",
    "version": 3
   },
   "file_extension": ".py",
   "mimetype": "text/x-python",
   "name": "python",
   "nbconvert_exporter": "python",
   "pygments_lexer": "ipython3",
   "version": "3.12.7"
  }
 },
 "nbformat": 4,
 "nbformat_minor": 5
}
