{
 "cells": [
  {
   "cell_type": "code",
   "execution_count": 1,
   "id": "5138a049-9891-4b36-aded-33a992f5d9e1",
   "metadata": {},
   "outputs": [
    {
     "name": "stdout",
     "output_type": "stream",
     "text": [
      "     EMP_ID     name  age  gender  degination  sallary   city      country  \\\n",
      "0    EMP001   vikash   22    male       owner     8000     mp        india   \n",
      "1    EMP002    sapna   21  female     manager    60000  bihar          usa   \n",
      "2    EMP003      ram   34    male      cahier    70000  delhi        india   \n",
      "3    EMP004  krishna   32    male   accounter    56000  delhi        china   \n",
      "4    EMP005    seeta   43  female    engineer    40000   pune      newyork   \n",
      "5    EMP006    radha   45  female  programmer    50000  rachi        korea   \n",
      "6    EMP007    mohan   26    male      tester    66000  rachi  switzerland   \n",
      "7    EMP008    shyam   29    male  programmer    45000  delhi        india   \n",
      "8    EMP009  hanuman   31    male      tester    85000    goa        india   \n",
      "9   EMP0010    meena   29  female      cahier    80000  delhi          usa   \n",
      "10   EMP002    sapna   21  female     manager    60000  bihar         irak   \n",
      "11   EMP004  krishna   32    male     teacher    45000  delhi        korea   \n",
      "\n",
      "    bonus  \n",
      "0    0.50  \n",
      "1    0.00  \n",
      "2    5.00  \n",
      "3    0.67  \n",
      "4    0.00  \n",
      "5    0.45  \n",
      "6    0.30  \n",
      "7    0.80  \n",
      "8    0.00  \n",
      "9    0.70  \n",
      "10   0.90  \n",
      "11   0.40  \n"
     ]
    }
   ],
   "source": [
    "import pandas as pd\n",
    "data=pd.read_csv(\"practice1.csv\")\n",
    "print(data)"
   ]
  },
  {
   "cell_type": "code",
   "execution_count": 5,
   "id": "8bf90c79-464d-47cb-83e4-1529ccafe59c",
   "metadata": {},
   "outputs": [
    {
     "name": "stdout",
     "output_type": "stream",
     "text": [
      "                   EMP_ID\n",
      "degination gender        \n",
      "accounter  male         1\n",
      "cahier     female       1\n",
      "           male         1\n",
      "engineer   female       1\n",
      "manager    female       2\n",
      "owner      male         1\n",
      "programmer female       1\n",
      "           male         1\n",
      "teacher    male         1\n",
      "tester     male         2\n"
     ]
    }
   ],
   "source": [
    "gp=data.groupby([\"degination\",\"gender\"]).agg({\"EMP_ID\":\"count\"})\n",
    "print(gp)"
   ]
  },
  {
   "cell_type": "code",
   "execution_count": 7,
   "id": "835ffa33-57d7-4db6-8e5e-edc6d45aabd8",
   "metadata": {},
   "outputs": [
    {
     "name": "stdout",
     "output_type": "stream",
     "text": [
      "             sallary\n",
      "country             \n",
      "china              1\n",
      "india              4\n",
      "irak               1\n",
      "korea              2\n",
      "newyork            1\n",
      "switzerland        1\n",
      "usa                2\n"
     ]
    }
   ],
   "source": [
    "gp=data.groupby(\"country\").agg({\"sallary\":\"count\"})\n",
    "print(gp)"
   ]
  },
  {
   "cell_type": "code",
   "execution_count": 12,
   "id": "66832a05-b56f-4107-a3a5-dffbb6842686",
   "metadata": {},
   "outputs": [
    {
     "name": "stdout",
     "output_type": "stream",
     "text": [
      "             sallary\n",
      "country             \n",
      "china        56000.0\n",
      "india        52000.0\n",
      "irak         60000.0\n",
      "korea        47500.0\n",
      "newyork      40000.0\n",
      "switzerland  66000.0\n",
      "usa          70000.0\n"
     ]
    }
   ],
   "source": [
    "gp1=data.groupby(\"country\").agg({\"sallary\":\"mean\"})\n",
    "print(gp)"
   ]
  },
  {
   "cell_type": "code",
   "execution_count": 15,
   "id": "02641dde-67de-4c2b-9888-397dfe5bc535",
   "metadata": {},
   "outputs": [
    {
     "name": "stdout",
     "output_type": "stream",
     "text": [
      "              sallary\n",
      "city  gender         \n",
      "bihar female    60000\n",
      "delhi female    80000\n",
      "      male      70000\n",
      "goa   male      85000\n",
      "mp    male       8000\n",
      "pune  female    40000\n",
      "rachi female    50000\n",
      "      male      66000\n"
     ]
    }
   ],
   "source": [
    "gp=data.groupby([\"city\",\"gender\"]).agg({\"sallary\":\"max\"})\n",
    "print(gp)"
   ]
  },
  {
   "cell_type": "code",
   "execution_count": 16,
   "id": "1ff6a915-89d3-4d92-839b-2417b2798fcd",
   "metadata": {},
   "outputs": [
    {
     "name": "stdout",
     "output_type": "stream",
     "text": [
      "              sallary\n",
      "city  gender         \n",
      "bihar female    60000\n",
      "delhi female    80000\n",
      "      male      45000\n",
      "goa   male      85000\n",
      "mp    male       8000\n",
      "pune  female    40000\n",
      "rachi female    50000\n",
      "      male      66000\n"
     ]
    }
   ],
   "source": [
    "gp=data.groupby([\"city\",\"gender\"]).agg({\"sallary\":\"min\"})\n",
    "print(gp)"
   ]
  },
  {
   "cell_type": "code",
   "execution_count": 17,
   "id": "10d17487-1fbe-411e-82f2-6ce7c1dacf9c",
   "metadata": {},
   "outputs": [
    {
     "name": "stdout",
     "output_type": "stream",
     "text": [
      "                   sallary\n",
      "degination gender         \n",
      "accounter  male      56000\n",
      "cahier     female    80000\n",
      "           male      70000\n",
      "engineer   female    40000\n",
      "manager    female    60000\n",
      "owner      male       8000\n",
      "programmer female    50000\n",
      "           male      45000\n",
      "teacher    male      45000\n",
      "tester     male      85000\n"
     ]
    }
   ],
   "source": [
    "gp=data.groupby([\"degination\",\"gender\"]).agg({\"sallary\":\"max\"})\n",
    "print(gp)"
   ]
  },
  {
   "cell_type": "code",
   "execution_count": 18,
   "id": "41aca8c0-3ae7-4646-b567-42d721f2a65a",
   "metadata": {},
   "outputs": [
    {
     "name": "stdout",
     "output_type": "stream",
     "text": [
      "              age\n",
      "city  gender     \n",
      "bihar female   21\n",
      "delhi female   29\n",
      "      male     34\n",
      "goa   male     31\n",
      "mp    male     22\n",
      "pune  female   43\n",
      "rachi female   45\n",
      "      male     26\n"
     ]
    }
   ],
   "source": [
    "gp=data.groupby([\"city\",\"gender\"]).agg({\"age\":\"max\"})\n",
    "print(gp)"
   ]
  },
  {
   "cell_type": "code",
   "execution_count": 19,
   "id": "20760a72-72a2-47fa-bc8c-1490af9b8164",
   "metadata": {},
   "outputs": [
    {
     "name": "stdout",
     "output_type": "stream",
     "text": [
      "                  country\n",
      "city  gender             \n",
      "bihar female          usa\n",
      "delhi female          usa\n",
      "      male          korea\n",
      "goa   male          india\n",
      "mp    male          india\n",
      "pune  female      newyork\n",
      "rachi female        korea\n",
      "      male    switzerland\n"
     ]
    }
   ],
   "source": [
    "gp=data.groupby([\"city\",\"gender\"]).agg({\"country\":\"max\"})\n",
    "print(gp)"
   ]
  },
  {
   "cell_type": "code",
   "execution_count": 23,
   "id": "6ac72087-135d-4271-95c8-0111e841dd3c",
   "metadata": {},
   "outputs": [
    {
     "name": "stdout",
     "output_type": "stream",
     "text": [
      "              sallary\n",
      "city  gender         \n",
      "bihar female    60000\n",
      "delhi female    80000\n",
      "      male      70000\n",
      "goa   male      85000\n",
      "mp    male       8000\n",
      "pune  female    40000\n",
      "rachi female    50000\n",
      "      male      66000\n"
     ]
    }
   ],
   "source": [
    "gp=data.groupby([\"city\",\"gender\"]).agg({\"sallary\":\"max\"})\n",
    "print(gp)"
   ]
  },
  {
   "cell_type": "code",
   "execution_count": 25,
   "id": "290a9f53-0a14-45ff-bf93-bee2cf2e4bfd",
   "metadata": {},
   "outputs": [
    {
     "name": "stdout",
     "output_type": "stream",
     "text": [
      "              sallary  age\n",
      "city  gender              \n",
      "bihar female    60000   21\n",
      "delhi female    80000   29\n",
      "      male      70000   29\n",
      "goa   male      85000   31\n",
      "mp    male       8000   22\n",
      "pune  female    40000   43\n",
      "rachi female    50000   45\n",
      "      male      66000   26\n"
     ]
    }
   ],
   "source": [
    "gp=data.groupby([\"city\",\"gender\"]).agg({\"sallary\":\"max\",\"age\":\"min\"})\n",
    "print(gp)"
   ]
  },
  {
   "cell_type": "code",
   "execution_count": 30,
   "id": "8921ad68-7c0b-4744-8aac-a01bb8305674",
   "metadata": {},
   "outputs": [
    {
     "ename": "TypeError",
     "evalue": "unhashable type: 'list'",
     "output_type": "error",
     "traceback": [
      "\u001b[1;31m---------------------------------------------------------------------------\u001b[0m",
      "\u001b[1;31mTypeError\u001b[0m                                 Traceback (most recent call last)",
      "Cell \u001b[1;32mIn[30], line 1\u001b[0m\n\u001b[1;32m----> 1\u001b[0m gp\u001b[38;5;241m=\u001b[39mdata\u001b[38;5;241m.\u001b[39mgroupby({[\u001b[38;5;124m\"\u001b[39m\u001b[38;5;124mcity\u001b[39m\u001b[38;5;124m\"\u001b[39m,\u001b[38;5;124m\"\u001b[39m\u001b[38;5;124mgender\u001b[39m\u001b[38;5;124m\"\u001b[39m,\u001b[38;5;124m\"\u001b[39m\u001b[38;5;124mname\u001b[39m\u001b[38;5;124m\"\u001b[39m]})\u001b[38;5;241m.\u001b[39magg({\u001b[38;5;124m\"\u001b[39m\u001b[38;5;124msallary\u001b[39m\u001b[38;5;124m\"\u001b[39m:\u001b[38;5;124m\"\u001b[39m\u001b[38;5;124mmix\u001b[39m\u001b[38;5;124m\"\u001b[39m,\u001b[38;5;124m\"\u001b[39m\u001b[38;5;124mage\u001b[39m\u001b[38;5;124m\"\u001b[39m:\u001b[38;5;124m\"\u001b[39m\u001b[38;5;124mmin\u001b[39m\u001b[38;5;124m\"\u001b[39m})\n\u001b[0;32m      2\u001b[0m \u001b[38;5;28mprint\u001b[39m(gp)\n",
      "\u001b[1;31mTypeError\u001b[0m: unhashable type: 'list'"
     ]
    }
   ],
   "source": [
    "gp=data.groupby({[\"city\",\"gender\",\"name\"]}).agg({\"sallary\":\"mix\",\"age\":\"min\"})\n",
    "print(gp)"
   ]
  },
  {
   "cell_type": "code",
   "execution_count": null,
   "id": "8c9e49c7-e352-4bf0-83db-3fa76901a8ba",
   "metadata": {},
   "outputs": [],
   "source": []
  }
 ],
 "metadata": {
  "kernelspec": {
   "display_name": "Python 3 (ipykernel)",
   "language": "python",
   "name": "python3"
  },
  "language_info": {
   "codemirror_mode": {
    "name": "ipython",
    "version": 3
   },
   "file_extension": ".py",
   "mimetype": "text/x-python",
   "name": "python",
   "nbconvert_exporter": "python",
   "pygments_lexer": "ipython3",
   "version": "3.12.7"
  }
 },
 "nbformat": 4,
 "nbformat_minor": 5
}
