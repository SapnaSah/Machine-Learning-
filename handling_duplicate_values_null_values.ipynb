{
 "cells": [
  {
   "cell_type": "code",
   "execution_count": 28,
   "id": "97b99c71-760f-4bcc-9db1-784f45477757",
   "metadata": {},
   "outputs": [
    {
     "name": "stdout",
     "output_type": "stream",
     "text": [
      "     EMP_ID     name   age  gender  sallary   city\n",
      "0    EMP001   vikash  22.0    male   8000.0     mp\n",
      "1    EMP002    sapna  21.0  female  60000.0  bihar\n",
      "2    EMP003      ram  34.0    male  70000.0    NaN\n",
      "3    EMP004  krishna  32.0    male      NaN  delhi\n",
      "4    EMP005    seeta  43.0  female  40000.0   pune\n",
      "5    EMP006    radha   NaN  female  50000.0  rachi\n",
      "6    EMP007    mohan  26.0    male  66000.0    NaN\n",
      "7    EMP008    shyam  29.0    male  45000.0  delhi\n",
      "8    EMP009  hanuman  31.0    male  85000.0    goa\n",
      "9   EMP0010    meena  29.0     NaN  80000.0  delhi\n",
      "10   EMP002    sapna  21.0  female  60000.0  bihar\n",
      "11   EMP004  krishna  32.0    male      NaN  delhi\n"
     ]
    }
   ],
   "source": [
    "import pandas as pd\n",
    "data=pd.read_csv(\"practice2.csv\")\n",
    "print(data)"
   ]
  },
  {
   "cell_type": "code",
   "execution_count": 29,
   "id": "0f9bd699-003b-4660-a9c5-3f6d09fb65c0",
   "metadata": {},
   "outputs": [
    {
     "name": "stdout",
     "output_type": "stream",
     "text": [
      "0     False\n",
      "1     False\n",
      "2     False\n",
      "3     False\n",
      "4     False\n",
      "5     False\n",
      "6     False\n",
      "7     False\n",
      "8     False\n",
      "9     False\n",
      "10     True\n",
      "11     True\n",
      "dtype: bool\n"
     ]
    }
   ],
   "source": [
    "print(data.duplicated())"
   ]
  },
  {
   "cell_type": "code",
   "execution_count": 30,
   "id": "315d90d9-7ec3-450b-896e-e9e31c5a6060",
   "metadata": {},
   "outputs": [
    {
     "name": "stdout",
     "output_type": "stream",
     "text": [
      "2\n"
     ]
    }
   ],
   "source": [
    "print(data.duplicated().sum())"
   ]
  },
  {
   "cell_type": "code",
   "execution_count": 31,
   "id": "43a3e79d-c40e-456d-b3cf-26ed77e6430b",
   "metadata": {},
   "outputs": [
    {
     "name": "stdout",
     "output_type": "stream",
     "text": [
      "2\n"
     ]
    }
   ],
   "source": [
    "print(data[\"EMP_ID\"].duplicated().sum())"
   ]
  },
  {
   "cell_type": "code",
   "execution_count": 35,
   "id": "ce47a47c-341d-4396-8f1a-80c3a1da03a0",
   "metadata": {},
   "outputs": [
    {
     "name": "stdout",
     "output_type": "stream",
     "text": [
      "    EMP_ID     name   age  gender  sallary   city\n",
      "0   EMP001   vikash  22.0    male   8000.0     mp\n",
      "1   EMP002    sapna  21.0  female  60000.0  bihar\n",
      "2   EMP003      ram  34.0    male  70000.0    NaN\n",
      "3   EMP004  krishna  32.0    male      NaN  delhi\n",
      "4   EMP005    seeta  43.0  female  40000.0   pune\n",
      "5   EMP006    radha   NaN  female  50000.0  rachi\n",
      "6   EMP007    mohan  26.0    male  66000.0    NaN\n",
      "7   EMP008    shyam  29.0    male  45000.0  delhi\n",
      "8   EMP009  hanuman  31.0    male  85000.0    goa\n",
      "9  EMP0010    meena  29.0     NaN  80000.0  delhi\n"
     ]
    }
   ],
   "source": [
    "print(data.drop_duplicates(\"EMP_ID\"))"
   ]
  },
  {
   "cell_type": "code",
   "execution_count": 37,
   "id": "13592e95-e2c2-45a2-a938-b2ba7fa3da69",
   "metadata": {},
   "outputs": [
    {
     "name": "stdout",
     "output_type": "stream",
     "text": [
      "     EMP_ID     name   age  gender  sallary   city\n",
      "0    EMP001   vikash  22.0    male   8000.0     mp\n",
      "1    EMP002    sapna  21.0  female  60000.0  bihar\n",
      "2    EMP003      ram  34.0    male  70000.0    NaN\n",
      "3    EMP004  krishna  32.0    male      NaN  delhi\n",
      "4    EMP005    seeta  43.0  female  40000.0   pune\n",
      "5    EMP006    radha   NaN  female  50000.0  rachi\n",
      "6    EMP007    mohan  26.0    male  66000.0    NaN\n",
      "7    EMP008    shyam  29.0    male  45000.0  delhi\n",
      "8    EMP009  hanuman  31.0    male  85000.0    goa\n",
      "9   EMP0010    meena  29.0     NaN  80000.0  delhi\n",
      "10   EMP002    sapna  21.0  female  60000.0  bihar\n",
      "11   EMP004  krishna  32.0    male      NaN  delhi\n"
     ]
    }
   ],
   "source": [
    "# WORKING WITH MISSING DATA IN PANDAS:-\n",
    "print(data)"
   ]
  },
  {
   "cell_type": "code",
   "execution_count": 38,
   "id": "bd53d4d0-29de-428e-b1cd-a3c0e8bfb74e",
   "metadata": {},
   "outputs": [
    {
     "name": "stdout",
     "output_type": "stream",
     "text": [
      "    EMP_ID   name    age  gender  sallary   city\n",
      "0    False  False  False   False    False  False\n",
      "1    False  False  False   False    False  False\n",
      "2    False  False  False   False    False   True\n",
      "3    False  False  False   False     True  False\n",
      "4    False  False  False   False    False  False\n",
      "5    False  False   True   False    False  False\n",
      "6    False  False  False   False    False   True\n",
      "7    False  False  False   False    False  False\n",
      "8    False  False  False   False    False  False\n",
      "9    False  False  False    True    False  False\n",
      "10   False  False  False   False    False  False\n",
      "11   False  False  False   False     True  False\n"
     ]
    }
   ],
   "source": [
    "print(data.isnull())"
   ]
  },
  {
   "cell_type": "code",
   "execution_count": 39,
   "id": "be12ef95-7b57-4e69-996d-97ea36550441",
   "metadata": {},
   "outputs": [
    {
     "name": "stdout",
     "output_type": "stream",
     "text": [
      "EMP_ID     0\n",
      "name       0\n",
      "age        1\n",
      "gender     1\n",
      "sallary    2\n",
      "city       2\n",
      "dtype: int64\n"
     ]
    }
   ],
   "source": [
    "print(data.isnull().sum())"
   ]
  },
  {
   "cell_type": "code",
   "execution_count": 40,
   "id": "eb3dc7f6-656d-4c95-beb8-28f3682415e7",
   "metadata": {},
   "outputs": [
    {
     "name": "stdout",
     "output_type": "stream",
     "text": [
      "    EMP_ID     name   age  gender  sallary   city\n",
      "0   EMP001   vikash  22.0    male   8000.0     mp\n",
      "1   EMP002    sapna  21.0  female  60000.0  bihar\n",
      "4   EMP005    seeta  43.0  female  40000.0   pune\n",
      "7   EMP008    shyam  29.0    male  45000.0  delhi\n",
      "8   EMP009  hanuman  31.0    male  85000.0    goa\n",
      "10  EMP002    sapna  21.0  female  60000.0  bihar\n"
     ]
    }
   ],
   "source": [
    "print(data.dropna())"
   ]
  },
  {
   "cell_type": "code",
   "execution_count": 42,
   "id": "5cd61af8-1323-4582-9672-0a3719879618",
   "metadata": {},
   "outputs": [
    {
     "name": "stdout",
     "output_type": "stream",
     "text": [
      "     EMP_ID     name    age  gender  sallary   city\n",
      "0    EMP001   vikash   22.0    male   8000.0     mp\n",
      "1    EMP002    sapna   21.0  female  60000.0  bihar\n",
      "2    EMP003      ram   34.0    male  70000.0  sapna\n",
      "3    EMP004  krishna   32.0    male    sapna  delhi\n",
      "4    EMP005    seeta   43.0  female  40000.0   pune\n",
      "5    EMP006    radha  sapna  female  50000.0  rachi\n",
      "6    EMP007    mohan   26.0    male  66000.0  sapna\n",
      "7    EMP008    shyam   29.0    male  45000.0  delhi\n",
      "8    EMP009  hanuman   31.0    male  85000.0    goa\n",
      "9   EMP0010    meena   29.0   sapna  80000.0  delhi\n",
      "10   EMP002    sapna   21.0  female  60000.0  bihar\n",
      "11   EMP004  krishna   32.0    male    sapna  delhi\n"
     ]
    }
   ],
   "source": [
    "import numpy as np\n",
    "print(data.replace(np.nan,\"sapna\"))"
   ]
  },
  {
   "cell_type": "code",
   "execution_count": 43,
   "id": "23de88c1-0adc-4d63-80a9-0c66092041a3",
   "metadata": {},
   "outputs": [
    {
     "name": "stdout",
     "output_type": "stream",
     "text": [
      "     EMP_ID     name      age  gender  sallary   city\n",
      "0    EMP001   vikash     22.0    male   8000.0     mp\n",
      "1    EMP002    sapna     21.0  female  60000.0  bihar\n",
      "2    EMP003      ram     34.0    male  70000.0  30000\n",
      "3    EMP004  krishna     32.0    male  30000.0  delhi\n",
      "4    EMP005    seeta     43.0  female  40000.0   pune\n",
      "5    EMP006    radha  30000.0  female  50000.0  rachi\n",
      "6    EMP007    mohan     26.0    male  66000.0  30000\n",
      "7    EMP008    shyam     29.0    male  45000.0  delhi\n",
      "8    EMP009  hanuman     31.0    male  85000.0    goa\n",
      "9   EMP0010    meena     29.0   30000  80000.0  delhi\n",
      "10   EMP002    sapna     21.0  female  60000.0  bihar\n",
      "11   EMP004  krishna     32.0    male  30000.0  delhi\n"
     ]
    }
   ],
   "source": [
    "print(data.replace(np.nan,30000))"
   ]
  },
  {
   "cell_type": "code",
   "execution_count": 54,
   "id": "0e8eedb5-aa5d-4e46-8728-4956ae533cd7",
   "metadata": {},
   "outputs": [
    {
     "name": "stdout",
     "output_type": "stream",
     "text": [
      "     EMP_ID     name   age  gender  sallary   city\n",
      "0    EMP001   vikash  22.0    male   8000.0     mp\n",
      "1    EMP002    sapna  21.0  female  60000.0  bihar\n",
      "2    EMP003      ram  34.0    male  70000.0    NaN\n",
      "3    EMP004  krishna  32.0    male  30000.0  delhi\n",
      "4    EMP005    seeta  43.0  female  40000.0   pune\n",
      "5    EMP006    radha   NaN  female  50000.0  rachi\n",
      "6    EMP007    mohan  26.0    male  66000.0    NaN\n",
      "7    EMP008    shyam  29.0    male  45000.0  delhi\n",
      "8    EMP009  hanuman  31.0    male  85000.0    goa\n",
      "9   EMP0010    meena  29.0     NaN  80000.0  delhi\n",
      "10   EMP002    sapna  21.0  female  60000.0  bihar\n",
      "11   EMP004  krishna  32.0    male  30000.0  delhi\n"
     ]
    }
   ],
   "source": [
    "data[\"sallary\"]=data[\"sallary\"].replace(np.nan,30000.0)\n",
    "print(data)"
   ]
  },
  {
   "cell_type": "code",
   "execution_count": 49,
   "id": "38677d5e-4565-411a-bc6b-daee5bb538c4",
   "metadata": {},
   "outputs": [
    {
     "name": "stdout",
     "output_type": "stream",
     "text": [
      "52000.0\n"
     ]
    }
   ],
   "source": [
    "print(data[\"sallary\"].mean())"
   ]
  },
  {
   "cell_type": "code",
   "execution_count": 52,
   "id": "06d32a91-b0c0-4947-b3cf-fbb34f5e5621",
   "metadata": {},
   "outputs": [
    {
     "name": "stdout",
     "output_type": "stream",
     "text": [
      "     EMP_ID     name   age  gender  sallary   city\n",
      "0    EMP001   vikash  22.0    male   8000.0     mp\n",
      "1    EMP002    sapna  21.0  female  60000.0  bihar\n",
      "2    EMP003      ram  34.0    male  70000.0    NaN\n",
      "3    EMP004  krishna  32.0    male  30000.0  delhi\n",
      "4    EMP005    seeta  43.0  female  40000.0   pune\n",
      "5    EMP006    radha   NaN  female  50000.0  rachi\n",
      "6    EMP007    mohan  26.0    male  66000.0    NaN\n",
      "7    EMP008    shyam  29.0    male  45000.0  delhi\n",
      "8    EMP009  hanuman  31.0    male  85000.0    goa\n",
      "9   EMP0010    meena  29.0     NaN  80000.0  delhi\n",
      "10   EMP002    sapna  21.0  female  60000.0  bihar\n",
      "11   EMP004  krishna  32.0    male  30000.0  delhi\n"
     ]
    }
   ],
   "source": [
    " #data[\"sallary\"]=data[\"sallary\"].replace(np.nan,52000.0)\n",
    " #print(data)"
   ]
  },
  {
   "cell_type": "code",
   "execution_count": 58,
   "id": "22081cf1-a379-484b-8e33-7891fbbdff34",
   "metadata": {},
   "outputs": [
    {
     "name": "stdout",
     "output_type": "stream",
     "text": [
      "     EMP_ID     name   age  gender  sallary   city\n",
      "0    EMP001   vikash  22.0    male   8000.0     mp\n",
      "1    EMP002    sapna  21.0  female  60000.0  bihar\n",
      "2    EMP003      ram  34.0    male  70000.0  delhi\n",
      "3    EMP004  krishna  32.0    male  30000.0  delhi\n",
      "4    EMP005    seeta  43.0  female  40000.0   pune\n",
      "5    EMP006    radha  26.0  female  50000.0  rachi\n",
      "6    EMP007    mohan  26.0    male  66000.0  delhi\n",
      "7    EMP008    shyam  29.0    male  45000.0  delhi\n",
      "8    EMP009  hanuman  31.0    male  85000.0    goa\n",
      "9   EMP0010    meena  29.0  female  80000.0  delhi\n",
      "10   EMP002    sapna  21.0  female  60000.0  bihar\n",
      "11   EMP004  krishna  32.0    male  30000.0  delhi\n"
     ]
    },
    {
     "name": "stderr",
     "output_type": "stream",
     "text": [
      "C:\\Users\\sapna\\AppData\\Local\\Temp\\ipykernel_2808\\1042730050.py:1: FutureWarning: DataFrame.fillna with 'method' is deprecated and will raise in a future version. Use obj.ffill() or obj.bfill() instead.\n",
      "  print(data.fillna(method=\"bfill\"))\n"
     ]
    }
   ],
   "source": [
    "print(data.fillna(method=\"bfill\")) "
   ]
  },
  {
   "cell_type": "code",
   "execution_count": 59,
   "id": "ee305320-bc4f-41ff-b4a8-c0780dc45cef",
   "metadata": {},
   "outputs": [
    {
     "name": "stdout",
     "output_type": "stream",
     "text": [
      "     EMP_ID     name   age  gender  sallary   city\n",
      "0    EMP001   vikash  22.0    male   8000.0     mp\n",
      "1    EMP002    sapna  21.0  female  60000.0  bihar\n",
      "2    EMP003      ram  34.0    male  70000.0  bihar\n",
      "3    EMP004  krishna  32.0    male  30000.0  delhi\n",
      "4    EMP005    seeta  43.0  female  40000.0   pune\n",
      "5    EMP006    radha  43.0  female  50000.0  rachi\n",
      "6    EMP007    mohan  26.0    male  66000.0  rachi\n",
      "7    EMP008    shyam  29.0    male  45000.0  delhi\n",
      "8    EMP009  hanuman  31.0    male  85000.0    goa\n",
      "9   EMP0010    meena  29.0    male  80000.0  delhi\n",
      "10   EMP002    sapna  21.0  female  60000.0  bihar\n",
      "11   EMP004  krishna  32.0    male  30000.0  delhi\n"
     ]
    },
    {
     "name": "stderr",
     "output_type": "stream",
     "text": [
      "C:\\Users\\sapna\\AppData\\Local\\Temp\\ipykernel_2808\\2373199802.py:1: FutureWarning: DataFrame.fillna with 'method' is deprecated and will raise in a future version. Use obj.ffill() or obj.bfill() instead.\n",
      "  print(data.fillna(method=\"ffill\"))\n"
     ]
    }
   ],
   "source": [
    "print(data.fillna(method=\"ffill\"))"
   ]
  },
  {
   "cell_type": "code",
   "execution_count": null,
   "id": "ad65ef99-069d-4696-a861-bc33ab4b0514",
   "metadata": {},
   "outputs": [],
   "source": []
  }
 ],
 "metadata": {
  "kernelspec": {
   "display_name": "Python 3 (ipykernel)",
   "language": "python",
   "name": "python3"
  },
  "language_info": {
   "codemirror_mode": {
    "name": "ipython",
    "version": 3
   },
   "file_extension": ".py",
   "mimetype": "text/x-python",
   "name": "python",
   "nbconvert_exporter": "python",
   "pygments_lexer": "ipython3",
   "version": "3.12.7"
  }
 },
 "nbformat": 4,
 "nbformat_minor": 5
}
