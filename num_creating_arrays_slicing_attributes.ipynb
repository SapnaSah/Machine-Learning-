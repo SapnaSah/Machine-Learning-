{
 "cells": [
  {
   "cell_type": "code",
   "execution_count": 1,
   "id": "04d5f644-2400-428c-9651-9046d8411942",
   "metadata": {},
   "outputs": [
    {
     "name": "stdout",
     "output_type": "stream",
     "text": [
      "sapna\n"
     ]
    }
   ],
   "source": [
    "print(\"sapna\")"
   ]
  },
  {
   "cell_type": "code",
   "execution_count": 2,
   "id": "11616b93-81a9-4edf-814e-2bfe577fad7f",
   "metadata": {},
   "outputs": [
    {
     "name": "stdout",
     "output_type": "stream",
     "text": [
      "[10 20 30 40]\n",
      "<class 'numpy.ndarray'>\n"
     ]
    }
   ],
   "source": [
    "import numpy as np\n",
    "a=np.array([10,20,30,40])\n",
    "print(a)\n",
    "print(type(a))"
   ]
  },
  {
   "cell_type": "code",
   "execution_count": 3,
   "id": "25d783a4-e92c-4814-bea1-ec6a0d2a09a1",
   "metadata": {},
   "outputs": [
    {
     "name": "stdout",
     "output_type": "stream",
     "text": [
      "[[20 30 40 60 60 70]\n",
      " [25 56 78 90 45 44]]\n",
      "<class 'numpy.ndarray'>\n"
     ]
    }
   ],
   "source": [
    "a=np.array([[20,30,40,60,60,70],[25,56,78,90,45,44]])\n",
    "print(a)\n",
    "print(type(a))"
   ]
  },
  {
   "cell_type": "code",
   "execution_count": 11,
   "id": "4b3549ab-31e3-443f-aa3d-57c890cfe079",
   "metadata": {},
   "outputs": [
    {
     "name": "stdout",
     "output_type": "stream",
     "text": [
      "[[10 40 50 80]\n",
      " [30 40 60 70]\n",
      " [23 45 67 89]]\n",
      "<class 'numpy.ndarray'>\n"
     ]
    }
   ],
   "source": [
    "a=np.array([[10,40,50,80],[30,40,60,70],[23,45,67,89]])\n",
    "print(a)\n",
    "print(type(a))"
   ]
  },
  {
   "cell_type": "code",
   "execution_count": 18,
   "id": "f4090e15-3fbd-42ab-9a31-65b4958a55b4",
   "metadata": {},
   "outputs": [
    {
     "name": "stdout",
     "output_type": "stream",
     "text": [
      "[10 20 30]\n"
     ]
    }
   ],
   "source": [
    "a=np.array([10,20,30,40])\n",
    "print(a[0:3])"
   ]
  },
  {
   "cell_type": "code",
   "execution_count": 21,
   "id": "d0ec0732-cbec-49b6-b80c-4464427d24de",
   "metadata": {},
   "outputs": [
    {
     "name": "stdout",
     "output_type": "stream",
     "text": [
      "[10 20 30]\n"
     ]
    }
   ],
   "source": [
    "a=np.array([10,20,30,40])\n",
    "print(a[:3])"
   ]
  },
  {
   "cell_type": "code",
   "execution_count": 22,
   "id": "13bfac7f-e70e-4587-8666-c6e70ce248d0",
   "metadata": {},
   "outputs": [
    {
     "name": "stdout",
     "output_type": "stream",
     "text": [
      "[10 20 30 40]\n"
     ]
    }
   ],
   "source": [
    "a=np.array([10,20,30,40])\n",
    "print(a[0:])"
   ]
  },
  {
   "cell_type": "code",
   "execution_count": 25,
   "id": "c4afc5db-08f4-4a10-9ce5-0fb8825c5010",
   "metadata": {},
   "outputs": [
    {
     "name": "stdout",
     "output_type": "stream",
     "text": [
      "[[10 40]\n",
      " [30 40]]\n"
     ]
    }
   ],
   "source": [
    "a=np.array([[10,40,50,80],[30,40,60,70]])\n",
    "print(a[0:2,0:2])"
   ]
  },
  {
   "cell_type": "code",
   "execution_count": 28,
   "id": "5424a9fa-54d1-4eea-bb0f-54421282dc9a",
   "metadata": {},
   "outputs": [
    {
     "name": "stdout",
     "output_type": "stream",
     "text": [
      "[[10 40]\n",
      " [30 40]]\n",
      "<class 'numpy.ndarray'>\n"
     ]
    }
   ],
   "source": [
    "a=np.array([[10,40,50,80],[30,40,60,70]])\n",
    "print(a[0:3,0:2])\n",
    "print(type(a))"
   ]
  },
  {
   "cell_type": "code",
   "execution_count": 29,
   "id": "4911c52c-6818-413d-bb67-56df2c436ee8",
   "metadata": {},
   "outputs": [
    {
     "name": "stdout",
     "output_type": "stream",
     "text": [
      "[[10 40 50]\n",
      " [30 40 60]]\n",
      "<class 'numpy.ndarray'>\n"
     ]
    }
   ],
   "source": [
    "a=np.array([[10,40,50,80],[30,40,60,70]])\n",
    "print(a[0:2,0:3])\n",
    "print(type(a))"
   ]
  },
  {
   "cell_type": "code",
   "execution_count": 30,
   "id": "f7d4dd3c-c7ca-424e-acea-cfb74efb7bc2",
   "metadata": {},
   "outputs": [
    {
     "name": "stdout",
     "output_type": "stream",
     "text": [
      "[10 40]\n",
      "<class 'numpy.ndarray'>\n"
     ]
    }
   ],
   "source": [
    "a=np.array([[10,40,50,80],[30,40,60,70]])\n",
    "print(a[0,0:2])\n",
    "print(type(a))"
   ]
  },
  {
   "cell_type": "code",
   "execution_count": 31,
   "id": "ee1a6583-5370-4877-b0b8-1da6e6d2b6d6",
   "metadata": {},
   "outputs": [
    {
     "name": "stdout",
     "output_type": "stream",
     "text": [
      "67\n",
      "<class 'numpy.ndarray'>\n"
     ]
    }
   ],
   "source": [
    "# a=np.array([[10,40,50,80],[30,40,60,70],[23,45,67,89]])\n",
    "# print(a[2,2])\n",
    "# print(type(a))"
   ]
  },
  {
   "cell_type": "code",
   "execution_count": 38,
   "id": "a0ce9814-cc44-435a-bd03-09486e195276",
   "metadata": {},
   "outputs": [
    {
     "name": "stdout",
     "output_type": "stream",
     "text": [
      "(3, 4)\n",
      "12\n",
      "2\n",
      "int32\n",
      "[[10. 40. 50. 80.]\n",
      " [30. 40. 60. 70.]\n",
      " [23. 45. 67. 89.]]\n",
      "3\n"
     ]
    }
   ],
   "source": [
    "# ATTRIBUTES/ INSPECTING AN NUMPY IN NUMPY\n",
    "a=np.array([[10,40,50,80],[30,40,60,70],[23,45,67,89]])\n",
    "print(np.shape(a))\n",
    "print(np.size(a))\n",
    "print(np.ndim(a))               # number of array dimension dimension.\n",
    "print(a.dtype)\n",
    "print(a.astype(float))\n",
    "print(len(a))"
   ]
  }
 ],
 "metadata": {
  "kernelspec": {
   "display_name": "Python 3 (ipykernel)",
   "language": "python",
   "name": "python3"
  },
  "language_info": {
   "codemirror_mode": {
    "name": "ipython",
    "version": 3
   },
   "file_extension": ".py",
   "mimetype": "text/x-python",
   "name": "python",
   "nbconvert_exporter": "python",
   "pygments_lexer": "ipython3",
   "version": "3.12.7"
  }
 },
 "nbformat": 4,
 "nbformat_minor": 5
}
