{
 "cells": [
  {
   "cell_type": "code",
   "execution_count": 1,
   "id": "64fa6af8-359a-45c7-b694-5c211426f514",
   "metadata": {},
   "outputs": [
    {
     "name": "stdout",
     "output_type": "stream",
     "text": [
      "      name  age  sallary\n",
      "0    sapna   20    40000\n",
      "1   vikash   22    70000\n",
      "2    sagar   23    50000\n",
      "3      ram   45    50000\n",
      "4  krishna   67    30000\n"
     ]
    }
   ],
   "source": [
    "import pandas as pd\n",
    "data={\"name\":[\"sapna\",\"vikash\",\"sagar\",\"ram\",\"krishna\"],\n",
    "      \"age\":[20,22,23,45,67],\n",
    "      \"sallary\":[40000,70000,50000,50000,30000]}\n",
    "df=pd.DataFrame(data)\n",
    "print(df)\n"
   ]
  },
  {
   "cell_type": "code",
   "execution_count": 2,
   "id": "cc8f2bab-ebd0-43aa-b6b4-4b5e88773950",
   "metadata": {},
   "outputs": [
    {
     "name": "stdout",
     "output_type": "stream",
     "text": [
      "      name village\n",
      "0      ram     abc\n",
      "1     sita      nm\n",
      "2  krishna     ght\n"
     ]
    }
   ],
   "source": [
    "data=pd.read_csv(\"sixth.csv\")\n",
    "print(data)"
   ]
  },
  {
   "cell_type": "code",
   "execution_count": 3,
   "id": "eeb16be3-599c-4d74-83b2-38156a0b2aef",
   "metadata": {},
   "outputs": [
    {
     "name": "stdout",
     "output_type": "stream",
     "text": [
      "<class 'pandas.core.frame.DataFrame'>\n",
      "RangeIndex: 3 entries, 0 to 2\n",
      "Data columns (total 2 columns):\n",
      " #   Column   Non-Null Count  Dtype \n",
      "---  ------   --------------  ----- \n",
      " 0   name     3 non-null      object\n",
      " 1   village  3 non-null      object\n",
      "dtypes: object(2)\n",
      "memory usage: 180.0+ bytes\n",
      "None\n"
     ]
    }
   ],
   "source": [
    "print(data.info())"
   ]
  },
  {
   "cell_type": "code",
   "execution_count": 15,
   "id": "7a1aad7b-deae-4f95-ba70-f124fd98ecf7",
   "metadata": {},
   "outputs": [
    {
     "name": "stdout",
     "output_type": "stream",
     "text": [
      "       name  age  sallary  designation       city  gender\n",
      "0     sapna   21    20000     engineer      bihar  female\n",
      "1    vikash   22    80000  programmmer         mp    male\n",
      "2   krishna   32    30000       cahier         up    male\n",
      "3     sagar   23     4000       tester  jharkhand    male\n",
      "4    nandni   25     2000      manager      delhi  female\n",
      "5     ragni   34     7000        coder     mumbai  female\n",
      "6    pushpa   33     9000   programmer    kolkata  female\n",
      "7      rani   44    10000      manager      rachi  female\n",
      "8     shyam   40    11000      manager       pune    male\n",
      "9     mohan   30     3300       cahier   banglore    male\n",
      "10   rakesh   31     5500     engineer      patna    male\n",
      "11    meena   41     3500     engineer     jaipur  female\n",
      "12  sanjeev   42     4500       tester      delhi    male\n",
      "13    mohit   37    50000      teacher         mp    male\n",
      "14      ram   29    40000      teacher         up    male\n",
      "15    radha   28    70000       cahier      delhi  female\n",
      "16    seeta   38    44000     engineer     mumbai  female\n",
      "17   rakesh   35    45000       tester     jaipur    male\n",
      "18    pooja   27    29000        coder      delhi  female\n"
     ]
    }
   ],
   "source": [
    "import pandas as pd\n",
    "data=pd.read_excel(\"Book1.xlsx\")\n",
    "print(data)"
   ]
  },
  {
   "cell_type": "code",
   "execution_count": 13,
   "id": "4bb5efc1-2d01-4502-abf5-401e1b896806",
   "metadata": {},
   "outputs": [
    {
     "name": "stdout",
     "output_type": "stream",
     "text": [
      "       name  age  sallary  designation       city  gender  bonus\n",
      "0     sapna   21    20000     engineer      bihar  female      3\n",
      "1    vikash   22    80000  programmmer         mp    male      6\n",
      "2   krishna   32    30000       cahier         up    male      8\n",
      "3     sagar   23     4000       tester  jharkhand    male      5\n",
      "4    nandni   25     2000      manager      delhi  female      8\n",
      "5     ragni   34     7000        coder     mumbai  female      9\n",
      "6    pushpa   33     9000   programmer    kolkata  female      5\n",
      "7      rani   44    10000      manager      rachi  female      6\n",
      "8     shyam   40    11000      manager       pune    male      7\n",
      "9     mohan   30     3300       cahier   banglore    male      6\n",
      "10   rakesh   31     5500     engineer      patna    male      7\n",
      "11    meena   41     3500     engineer     jaipur  female      6\n",
      "12  sanjeev   42     4500       tester      delhi    male      6\n",
      "13    mohit   37    50000      teacher         mp    male      7\n",
      "14      ram   29    40000      teacher         up    male      5\n",
      "15    radha   28    70000       cahier      delhi  female      8\n",
      "16    seeta   38    44000     engineer     mumbai  female      5\n",
      "17   rakesh   35    45000       tester     jaipur    male      4\n",
      "18    pooja   27    29000        coder      delhi  female      8\n"
     ]
    }
   ],
   "source": [
    "import pandas as pd\n",
    "data=pd.read_csv(\"employee.csv\")\n",
    "print(data)"
   ]
  },
  {
   "cell_type": "code",
   "execution_count": 20,
   "id": "e3deddde-d254-474e-b524-059b265fb907",
   "metadata": {},
   "outputs": [
    {
     "name": "stdout",
     "output_type": "stream",
     "text": [
      "<class 'pandas.core.frame.DataFrame'>\n",
      "RangeIndex: 19 entries, 0 to 18\n",
      "Data columns (total 6 columns):\n",
      " #   Column       Non-Null Count  Dtype \n",
      "---  ------       --------------  ----- \n",
      " 0   name         19 non-null     object\n",
      " 1   age          19 non-null     int64 \n",
      " 2   sallary      19 non-null     int64 \n",
      " 3   designation  19 non-null     object\n",
      " 4   city         19 non-null     object\n",
      " 5   gender       19 non-null     object\n",
      "dtypes: int64(2), object(4)\n",
      "memory usage: 1.0+ KB\n",
      "None\n"
     ]
    }
   ],
   "source": [
    "print(data.info())"
   ]
  },
  {
   "cell_type": "code",
   "execution_count": 21,
   "id": "73c5200d-1435-4faf-aa69-c4b79cd744cc",
   "metadata": {},
   "outputs": [
    {
     "data": {
      "text/html": [
       "<div>\n",
       "<style scoped>\n",
       "    .dataframe tbody tr th:only-of-type {\n",
       "        vertical-align: middle;\n",
       "    }\n",
       "\n",
       "    .dataframe tbody tr th {\n",
       "        vertical-align: top;\n",
       "    }\n",
       "\n",
       "    .dataframe thead th {\n",
       "        text-align: right;\n",
       "    }\n",
       "</style>\n",
       "<table border=\"1\" class=\"dataframe\">\n",
       "  <thead>\n",
       "    <tr style=\"text-align: right;\">\n",
       "      <th></th>\n",
       "      <th>age</th>\n",
       "      <th>sallary</th>\n",
       "    </tr>\n",
       "  </thead>\n",
       "  <tbody>\n",
       "    <tr>\n",
       "      <th>count</th>\n",
       "      <td>19.000000</td>\n",
       "      <td>19.000000</td>\n",
       "    </tr>\n",
       "    <tr>\n",
       "      <th>mean</th>\n",
       "      <td>32.210526</td>\n",
       "      <td>24621.052632</td>\n",
       "    </tr>\n",
       "    <tr>\n",
       "      <th>std</th>\n",
       "      <td>6.948852</td>\n",
       "      <td>24070.396270</td>\n",
       "    </tr>\n",
       "    <tr>\n",
       "      <th>min</th>\n",
       "      <td>21.000000</td>\n",
       "      <td>2000.000000</td>\n",
       "    </tr>\n",
       "    <tr>\n",
       "      <th>25%</th>\n",
       "      <td>27.500000</td>\n",
       "      <td>5000.000000</td>\n",
       "    </tr>\n",
       "    <tr>\n",
       "      <th>50%</th>\n",
       "      <td>32.000000</td>\n",
       "      <td>11000.000000</td>\n",
       "    </tr>\n",
       "    <tr>\n",
       "      <th>75%</th>\n",
       "      <td>37.500000</td>\n",
       "      <td>42000.000000</td>\n",
       "    </tr>\n",
       "    <tr>\n",
       "      <th>max</th>\n",
       "      <td>44.000000</td>\n",
       "      <td>80000.000000</td>\n",
       "    </tr>\n",
       "  </tbody>\n",
       "</table>\n",
       "</div>"
      ],
      "text/plain": [
       "             age       sallary\n",
       "count  19.000000     19.000000\n",
       "mean   32.210526  24621.052632\n",
       "std     6.948852  24070.396270\n",
       "min    21.000000   2000.000000\n",
       "25%    27.500000   5000.000000\n",
       "50%    32.000000  11000.000000\n",
       "75%    37.500000  42000.000000\n",
       "max    44.000000  80000.000000"
      ]
     },
     "execution_count": 21,
     "metadata": {},
     "output_type": "execute_result"
    }
   ],
   "source": [
    "data.describe()"
   ]
  },
  {
   "cell_type": "code",
   "execution_count": 22,
   "id": "2372129c-5147-41c9-9faf-ccda70731407",
   "metadata": {},
   "outputs": [
    {
     "name": "stdout",
     "output_type": "stream",
     "text": [
      "     name    age  sallary  designation   city  gender\n",
      "0   False  False    False        False  False   False\n",
      "1   False  False    False        False  False   False\n",
      "2   False  False    False        False  False   False\n",
      "3   False  False    False        False  False   False\n",
      "4   False  False    False        False  False   False\n",
      "5   False  False    False        False  False   False\n",
      "6   False  False    False        False  False   False\n",
      "7   False  False    False        False  False   False\n",
      "8   False  False    False        False  False   False\n",
      "9   False  False    False        False  False   False\n",
      "10  False  False    False        False  False   False\n",
      "11  False  False    False        False  False   False\n",
      "12  False  False    False        False  False   False\n",
      "13  False  False    False        False  False   False\n",
      "14  False  False    False        False  False   False\n",
      "15  False  False    False        False  False   False\n",
      "16  False  False    False        False  False   False\n",
      "17  False  False    False        False  False   False\n",
      "18  False  False    False        False  False   False\n"
     ]
    }
   ],
   "source": [
    "print(data.isnull())"
   ]
  },
  {
   "cell_type": "code",
   "execution_count": 23,
   "id": "f69236c6-6f87-4acf-891d-3ae83ffdcf69",
   "metadata": {},
   "outputs": [
    {
     "name": "stdout",
     "output_type": "stream",
     "text": [
      "name           0\n",
      "age            0\n",
      "sallary        0\n",
      "designation    0\n",
      "city           0\n",
      "gender         0\n",
      "dtype: int64\n"
     ]
    }
   ],
   "source": [
    "print(data.isnull().sum())"
   ]
  }
 ],
 "metadata": {
  "kernelspec": {
   "display_name": "Python 3 (ipykernel)",
   "language": "python",
   "name": "python3"
  },
  "language_info": {
   "codemirror_mode": {
    "name": "ipython",
    "version": 3
   },
   "file_extension": ".py",
   "mimetype": "text/x-python",
   "name": "python",
   "nbconvert_exporter": "python",
   "pygments_lexer": "ipython3",
   "version": "3.12.7"
  }
 },
 "nbformat": 4,
 "nbformat_minor": 5
}
