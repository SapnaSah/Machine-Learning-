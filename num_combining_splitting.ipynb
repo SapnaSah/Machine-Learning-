{
 "cells": [
  {
   "cell_type": "code",
   "execution_count": 9,
   "id": "bf61c584-9573-49a7-803d-c708a6f581d6",
   "metadata": {},
   "outputs": [
    {
     "name": "stdout",
     "output_type": "stream",
     "text": [
      "[30, 40, 50, 5, 5, 3]\n"
     ]
    }
   ],
   "source": [
    "import numpy as np\n",
    "a=[30,40,50]\n",
    "b=[5,5,3]\n",
    "print(a+b)\n"
   ]
  },
  {
   "cell_type": "code",
   "execution_count": 10,
   "id": "268eea4a-5e4b-42eb-8d26-1c78a1aa18e3",
   "metadata": {},
   "outputs": [
    {
     "name": "stdout",
     "output_type": "stream",
     "text": [
      "[30 40 50  5  5  3]\n"
     ]
    }
   ],
   "source": [
    "a=[30,40,50]\n",
    "b=[5,5,3]\n",
    "print(np.array(a+b))"
   ]
  },
  {
   "cell_type": "code",
   "execution_count": 11,
   "id": "442c0229-70ba-42aa-a2b7-5aedbbcee6a1",
   "metadata": {},
   "outputs": [
    {
     "name": "stdout",
     "output_type": "stream",
     "text": [
      "[30 40 50  5  5  3]\n"
     ]
    }
   ],
   "source": [
    "a=[30,40,50]\n",
    "b=[5,5,3]\n",
    "print(np.concatenate([a,b]))"
   ]
  },
  {
   "cell_type": "code",
   "execution_count": 15,
   "id": "05b4bc39-c4da-477b-b90c-b3c6d75c2395",
   "metadata": {},
   "outputs": [
    {
     "name": "stdout",
     "output_type": "stream",
     "text": [
      "[[30 40 50]\n",
      " [50 20 40]\n",
      " [30 50 70]\n",
      " [30 60 70]]\n"
     ]
    }
   ],
   "source": [
    "a=[30,40,50],[50,20,40]\n",
    "b=[30,50,70],[30,60,70]\n",
    "print(np.concatenate([a,b]))"
   ]
  },
  {
   "cell_type": "code",
   "execution_count": 22,
   "id": "9ee5a807-62a3-402f-8b5a-4ebbd915e238",
   "metadata": {},
   "outputs": [
    {
     "ename": "SyntaxError",
     "evalue": "leading zeros in decimal integer literals are not permitted; use an 0o prefix for octal integers (1843812711.py, line 3)",
     "output_type": "error",
     "traceback": [
      "\u001b[1;36m  Cell \u001b[1;32mIn[22], line 3\u001b[1;36m\u001b[0m\n\u001b[1;33m    print(np.concatenate([a,b]),axis=01)\u001b[0m\n\u001b[1;37m                                     ^\u001b[0m\n\u001b[1;31mSyntaxError\u001b[0m\u001b[1;31m:\u001b[0m leading zeros in decimal integer literals are not permitted; use an 0o prefix for octal integers\n"
     ]
    }
   ],
   "source": [
    "# a=[30,40,50],[50,20,40]\n",
    "# b=[30,50,70],[30,60,70]\n",
    "# print(np.concatenate([a,b]),axis=01)"
   ]
  },
  {
   "cell_type": "code",
   "execution_count": 25,
   "id": "f9be314b-7e26-4535-be4b-994e3f3e85d7",
   "metadata": {},
   "outputs": [
    {
     "name": "stdout",
     "output_type": "stream",
     "text": [
      "[[30 40 50 30 50 70]\n",
      " [50 20 40 30 60 70]]\n"
     ]
    }
   ],
   "source": [
    "a=[30,40,50],[50,20,40]\n",
    "b=[30,50,70],[30,60,70]\n",
    "print(np.hstack([a,b]))"
   ]
  },
  {
   "cell_type": "code",
   "execution_count": 26,
   "id": "2678be3f-1c17-42b3-be81-7d6b22807a4f",
   "metadata": {},
   "outputs": [
    {
     "name": "stdout",
     "output_type": "stream",
     "text": [
      "[[30 40 50]\n",
      " [50 20 40]\n",
      " [30 50 70]\n",
      " [30 60 70]]\n"
     ]
    }
   ],
   "source": [
    "a=[30,40,50],[50,20,40]\n",
    "b=[30,50,70],[30,60,70]\n",
    "print(np.vstack([a,b]))"
   ]
  },
  {
   "cell_type": "code",
   "execution_count": 33,
   "id": "53c394c8-08e1-43b1-b154-c7c9b4d08f27",
   "metadata": {},
   "outputs": [
    {
     "name": "stdout",
     "output_type": "stream",
     "text": [
      "[array([20, 30]), array([40, 50]), array([60, 80])]\n"
     ]
    }
   ],
   "source": [
    "# SPLIT\n",
    "a=np.array([20,30,40,50,60,80])\n",
    "b=(np.array_split(a,3))\n",
    "print(b)"
   ]
  },
  {
   "cell_type": "code",
   "execution_count": 34,
   "id": "5bd2190f-c00c-49d5-8326-eb3692564a6d",
   "metadata": {},
   "outputs": [
    {
     "name": "stdout",
     "output_type": "stream",
     "text": [
      "[40 50]\n"
     ]
    }
   ],
   "source": [
    "a=np.array([20,30,40,50,60,80])\n",
    "print(b[1])"
   ]
  },
  {
   "cell_type": "code",
   "execution_count": 36,
   "id": "b40a0720-ad52-43e7-89c9-b72e637e82d8",
   "metadata": {},
   "outputs": [
    {
     "ename": "TypeError",
     "evalue": "'list' object is not callable",
     "output_type": "error",
     "traceback": [
      "\u001b[1;31m---------------------------------------------------------------------------\u001b[0m",
      "\u001b[1;31mTypeError\u001b[0m                                 Traceback (most recent call last)",
      "Cell \u001b[1;32mIn[36], line 3\u001b[0m\n\u001b[0;32m      1\u001b[0m a\u001b[38;5;241m=\u001b[39mnp\u001b[38;5;241m.\u001b[39marray([\u001b[38;5;241m20\u001b[39m,\u001b[38;5;241m30\u001b[39m,\u001b[38;5;241m40\u001b[39m,\u001b[38;5;241m50\u001b[39m,\u001b[38;5;241m60\u001b[39m,\u001b[38;5;241m80\u001b[39m])\n\u001b[0;32m      2\u001b[0m \u001b[38;5;28mprint\u001b[39m\u001b[38;5;241m=\u001b[39m(np\u001b[38;5;241m.\u001b[39marray_split(a,\u001b[38;5;241m5\u001b[39m))\n\u001b[1;32m----> 3\u001b[0m \u001b[38;5;28mprint\u001b[39m(b)\n",
      "\u001b[1;31mTypeError\u001b[0m: 'list' object is not callable"
     ]
    }
   ],
   "source": [
    "a=np.array([20,30,40,50,60,80])\n",
    "print=(np.array_split(a,5))\n",
    "print(b)"
   ]
  },
  {
   "cell_type": "code",
   "execution_count": null,
   "id": "71f9010a-3a1e-42c8-9959-42d68412f0fb",
   "metadata": {},
   "outputs": [],
   "source": []
  }
 ],
 "metadata": {
  "kernelspec": {
   "display_name": "Python 3 (ipykernel)",
   "language": "python",
   "name": "python3"
  },
  "language_info": {
   "codemirror_mode": {
    "name": "ipython",
    "version": 3
   },
   "file_extension": ".py",
   "mimetype": "text/x-python",
   "name": "python",
   "nbconvert_exporter": "python",
   "pygments_lexer": "ipython3",
   "version": "3.12.7"
  }
 },
 "nbformat": 4,
 "nbformat_minor": 5
}
