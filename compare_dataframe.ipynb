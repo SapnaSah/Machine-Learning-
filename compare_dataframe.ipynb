{
 "cells": [
  {
   "cell_type": "code",
   "execution_count": 4,
   "id": "d74bbe36-c6b9-4b61-b9c3-2924758a1eea",
   "metadata": {},
   "outputs": [
    {
     "name": "stdout",
     "output_type": "stream",
     "text": [
      "     fruit  price  quantity\n",
      "0    mango    100        12\n",
      "1   papaya     40        14\n",
      "2   banana     50         5\n",
      "3    apple    150         7\n",
      "4   orange     60         9\n",
      "5  cocunut     40         3\n",
      "6   grapes     90         4\n"
     ]
    }
   ],
   "source": [
    "import pandas as pd\n",
    "dict={\"fruit\":[\"mango\",\"papaya\",\"banana\",\"apple\",\"orange\",\"cocunut\",\"grapes\"],\n",
    "      \"price\":[100,40,50,150,60,40,90],\n",
    "      \"quantity\":[12,14,5,7,9,3,4]}\n",
    "df1=pd.DataFrame(dict)\n",
    "print(df1)"
   ]
  },
  {
   "cell_type": "code",
   "execution_count": 11,
   "id": "91ce4be3-2131-46ef-94db-dc2db4bee231",
   "metadata": {},
   "outputs": [
    {
     "name": "stdout",
     "output_type": "stream",
     "text": [
      "     fruit  price  quantity\n",
      "0    mango    100        12\n",
      "1   papaya     40        14\n",
      "2   banana     50         5\n",
      "3    apple    150         7\n",
      "4   orange     60         9\n",
      "5  cocunut     40         3\n",
      "6   grapes     90         4\n",
      "     fruit  price  quantity\n",
      "0    mango    100        12\n",
      "1   papaya     40        14\n",
      "2   banana     50         5\n",
      "3    apple    150         7\n",
      "4   orange     60         9\n",
      "5  cocunut     40         3\n",
      "6   grapes     90         4\n"
     ]
    }
   ],
   "source": [
    "\n",
    "dict={\"fruit\":[\"mango\",\"papaya\",\"banana\",\"apple\",\"orange\",\"cocunut\",\"grapes\"],\n",
    "      \"price\":[100,40,50,150,60,40,90],\n",
    "      \"quantity\":[12,14,5,7,9,3,4]}\n",
    "df1=pd.DataFrame(dict)\n",
    "print(df1)\n",
    "df2=df1.copy()\n",
    "print(df2)"
   ]
  },
  {
   "cell_type": "code",
   "execution_count": 18,
   "id": "3492d6d6-58ca-405f-8248-de323d53945f",
   "metadata": {},
   "outputs": [
    {
     "name": "stdout",
     "output_type": "stream",
     "text": [
      "     fruit  price  quantity\n",
      "0    mango    100        12\n",
      "1   papaya     40        14\n",
      "2   banana     50         5\n",
      "3    apple    150         7\n",
      "4   orange     60         9\n",
      "5  cocunut     40         3\n",
      "6   grapes     90         4\n",
      "     fruit  price  quantity\n",
      "0    mango    100        12\n",
      "1   papaya     40        14\n",
      "2   banana     50         5\n",
      "3    apple    150         7\n",
      "4   orange     60         9\n",
      "5  cocunut     40         3\n",
      "6   grapes     90         4\n",
      "\n",
      "     fruit  price  quantity\n",
      "0    mango    150        12\n",
      "1   papaya     40        14\n",
      "2   banana     50         5\n",
      "3    apple    120        17\n",
      "4   orange     60        19\n",
      "5  cocunut     40         3\n",
      "6   grapes     90         4\n",
      "   price        quantity      \n",
      "    self  other     self other\n",
      "0  100.0  150.0      NaN   NaN\n",
      "3  150.0  120.0      7.0  17.0\n",
      "4    NaN    NaN      9.0  19.0\n"
     ]
    }
   ],
   "source": [
    "dict={\"fruit\":[\"mango\",\"papaya\",\"banana\",\"apple\",\"orange\",\"cocunut\",\"grapes\"],\n",
    "      \"price\":[100,40,50,150,60,40,90],\n",
    "      \"quantity\":[12,14,5,7,9,3,4]}\n",
    "df1=pd.DataFrame(dict)\n",
    "print(df1)\n",
    "df2=df1.copy()\n",
    "print(df2)\n",
    "print()\n",
    "\n",
    "df2.loc[0,\"price\"]=150\n",
    "df2.loc[3,\"price\"]=120\n",
    "df2.loc[4,\"quantity\"]=19\n",
    "df2.loc[3,\"quantity\"]=17\n",
    "print(df2)\n",
    "print(df1.compare(df2))"
   ]
  },
  {
   "cell_type": "code",
   "execution_count": 19,
   "id": "a0dfc339-28de-4b37-9820-fe9d409144c8",
   "metadata": {},
   "outputs": [
    {
     "name": "stdout",
     "output_type": "stream",
     "text": [
      "     fruit  price  quantity\n",
      "0    mango    100        12\n",
      "1   papaya     40        14\n",
      "2   banana     50         5\n",
      "3    apple    150         7\n",
      "4   orange     60         9\n",
      "5  cocunut     40         3\n",
      "6   grapes     90         4\n",
      "     fruit  price  quantity\n",
      "0    mango    100        12\n",
      "1   papaya     40        14\n",
      "2   banana     50         5\n",
      "3    apple    150         7\n",
      "4   orange     60         9\n",
      "5  cocunut     40         3\n",
      "6   grapes     90         4\n",
      "\n",
      "     fruit  price  quantity\n",
      "0    mango    150        12\n",
      "1   papaya     40        14\n",
      "2   banana     50         5\n",
      "3    apple    120        17\n",
      "4   orange     60        19\n",
      "5  cocunut     40         3\n",
      "6   grapes     90         4\n",
      "         price  quantity\n",
      "0 self   100.0       NaN\n",
      "  other  150.0       NaN\n",
      "3 self   150.0       7.0\n",
      "  other  120.0      17.0\n",
      "4 self     NaN       9.0\n",
      "  other    NaN      19.0\n"
     ]
    }
   ],
   "source": [
    "dict={\"fruit\":[\"mango\",\"papaya\",\"banana\",\"apple\",\"orange\",\"cocunut\",\"grapes\"],\n",
    "      \"price\":[100,40,50,150,60,40,90],\n",
    "      \"quantity\":[12,14,5,7,9,3,4]}\n",
    "df1=pd.DataFrame(dict)\n",
    "print(df1)\n",
    "df2=df1.copy()\n",
    "print(df2)\n",
    "print()\n",
    "\n",
    "df2.loc[0,\"price\"]=150\n",
    "df2.loc[3,\"price\"]=120\n",
    "df2.loc[4,\"quantity\"]=19\n",
    "df2.loc[3,\"quantity\"]=17\n",
    "print(df2)\n",
    "print(df1.compare(df2,align_axis=0))"
   ]
  },
  {
   "cell_type": "code",
   "execution_count": 21,
   "id": "bf50bdc0-b5b1-42a9-a2e5-e52aa7b2e941",
   "metadata": {},
   "outputs": [
    {
     "name": "stdout",
     "output_type": "stream",
     "text": [
      "     fruit  price  quantity\n",
      "0    mango    100        12\n",
      "1   papaya     40        14\n",
      "2   banana     50         5\n",
      "3    apple    150         7\n",
      "4   orange     60         9\n",
      "5  cocunut     40         3\n",
      "6   grapes     90         4\n",
      "     fruit  price  quantity\n",
      "0    mango    100        12\n",
      "1   papaya     40        14\n",
      "2   banana     50         5\n",
      "3    apple    150         7\n",
      "4   orange     60         9\n",
      "5  cocunut     40         3\n",
      "6   grapes     90         4\n",
      "\n",
      "     fruit  price  quantity\n",
      "0    mango    150        12\n",
      "1   papaya     40        14\n",
      "2   banana     50         5\n",
      "3    apple    120        17\n",
      "4   orange     60        19\n",
      "5  cocunut     40         3\n",
      "6   grapes     90         4\n",
      "  fruit        price        quantity      \n",
      "   self other   self  other     self other\n",
      "0   NaN   NaN  100.0  150.0      NaN   NaN\n",
      "1   NaN   NaN    NaN    NaN      NaN   NaN\n",
      "2   NaN   NaN    NaN    NaN      NaN   NaN\n",
      "3   NaN   NaN  150.0  120.0      7.0  17.0\n",
      "4   NaN   NaN    NaN    NaN      9.0  19.0\n",
      "5   NaN   NaN    NaN    NaN      NaN   NaN\n",
      "6   NaN   NaN    NaN    NaN      NaN   NaN\n"
     ]
    }
   ],
   "source": [
    "dict={\"fruit\":[\"mango\",\"papaya\",\"banana\",\"apple\",\"orange\",\"cocunut\",\"grapes\"],\n",
    "      \"price\":[100,40,50,150,60,40,90],\n",
    "      \"quantity\":[12,14,5,7,9,3,4]}\n",
    "df1=pd.DataFrame(dict)\n",
    "print(df1)\n",
    "df2=df1.copy()\n",
    "print(df2)\n",
    "print()\n",
    "\n",
    "df2.loc[0,\"price\"]=150\n",
    "df2.loc[3,\"price\"]=120\n",
    "df2.loc[4,\"quantity\"]=19\n",
    "df2.loc[3,\"quantity\"]=17\n",
    "print(df2)\n",
    "print(df1.compare(df2,keep_shape=True))"
   ]
  },
  {
   "cell_type": "code",
   "execution_count": 22,
   "id": "af2e6d0b-d54a-4640-97df-acf9f711c850",
   "metadata": {},
   "outputs": [
    {
     "name": "stdout",
     "output_type": "stream",
     "text": [
      "     fruit  price  quantity\n",
      "0    mango    100        12\n",
      "1   papaya     40        14\n",
      "2   banana     50         5\n",
      "3    apple    150         7\n",
      "4   orange     60         9\n",
      "5  cocunut     40         3\n",
      "6   grapes     90         4\n",
      "     fruit  price  quantity\n",
      "0    mango    100        12\n",
      "1   papaya     40        14\n",
      "2   banana     50         5\n",
      "3    apple    150         7\n",
      "4   orange     60         9\n",
      "5  cocunut     40         3\n",
      "6   grapes     90         4\n",
      "\n",
      "     fruit  price  quantity\n",
      "0    mango    150        12\n",
      "1   papaya     40        14\n",
      "2   banana     50         5\n",
      "3    apple    120        17\n",
      "4   orange     60        19\n",
      "5  cocunut     40         3\n",
      "6   grapes     90         4\n",
      "   price        quantity      \n",
      "    self  other     self other\n",
      "0  100.0  150.0      NaN   NaN\n",
      "3  150.0  120.0      7.0  17.0\n",
      "4    NaN    NaN      9.0  19.0\n"
     ]
    }
   ],
   "source": [
    "dict={\"fruit\":[\"mango\",\"papaya\",\"banana\",\"apple\",\"orange\",\"cocunut\",\"grapes\"],\n",
    "      \"price\":[100,40,50,150,60,40,90],\n",
    "      \"quantity\":[12,14,5,7,9,3,4]}\n",
    "df1=pd.DataFrame(dict)\n",
    "print(df1)\n",
    "df2=df1.copy()\n",
    "print(df2)\n",
    "print()\n",
    "\n",
    "df2.loc[0,\"price\"]=150\n",
    "df2.loc[3,\"price\"]=120\n",
    "df2.loc[4,\"quantity\"]=19\n",
    "df2.loc[3,\"quantity\"]=17\n",
    "print(df2)\n",
    "print(df1.compare(df2,keep_shape=False))"
   ]
  },
  {
   "cell_type": "code",
   "execution_count": null,
   "id": "acc32538-55a0-4d24-81d5-72553b898906",
   "metadata": {},
   "outputs": [],
   "source": []
  }
 ],
 "metadata": {
  "kernelspec": {
   "display_name": "Python 3 (ipykernel)",
   "language": "python",
   "name": "python3"
  },
  "language_info": {
   "codemirror_mode": {
    "name": "ipython",
    "version": 3
   },
   "file_extension": ".py",
   "mimetype": "text/x-python",
   "name": "python",
   "nbconvert_exporter": "python",
   "pygments_lexer": "ipython3",
   "version": "3.12.7"
  }
 },
 "nbformat": 4,
 "nbformat_minor": 5
}
