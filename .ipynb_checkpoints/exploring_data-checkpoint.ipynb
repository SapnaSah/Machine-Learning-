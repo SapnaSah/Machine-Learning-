{
 "cells": [
  {
   "cell_type": "code",
   "execution_count": 1,
   "id": "64fa6af8-359a-45c7-b694-5c211426f514",
   "metadata": {},
   "outputs": [
    {
     "name": "stdout",
     "output_type": "stream",
     "text": [
      "      name  age  sallary\n",
      "0    sapna   20    40000\n",
      "1   vikash   22    70000\n",
      "2    sagar   23    50000\n",
      "3      ram   45    50000\n",
      "4  krishna   67    30000\n"
     ]
    }
   ],
   "source": [
    "import pandas as pd\n",
    "data={\"name\":[\"sapna\",\"vikash\",\"sagar\",\"ram\",\"krishna\"],\n",
    "      \"age\":[20,22,23,45,67],\n",
    "      \"sallary\":[40000,70000,50000,50000,30000]}\n",
    "df=pd.DataFrame(data)\n",
    "print(df)"
   ]
  },
  {
   "cell_type": "code",
   "execution_count": null,
   "id": "cc8f2bab-ebd0-43aa-b6b4-4b5e88773950",
   "metadata": {},
   "outputs": [],
   "source": []
  }
 ],
 "metadata": {
  "kernelspec": {
   "display_name": "Python 3 (ipykernel)",
   "language": "python",
   "name": "python3"
  },
  "language_info": {
   "codemirror_mode": {
    "name": "ipython",
    "version": 3
   },
   "file_extension": ".py",
   "mimetype": "text/x-python",
   "name": "python",
   "nbconvert_exporter": "python",
   "pygments_lexer": "ipython3",
   "version": "3.12.7"
  }
 },
 "nbformat": 4,
 "nbformat_minor": 5
}
