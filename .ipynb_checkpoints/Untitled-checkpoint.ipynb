{
 "cells": [
  {
   "cell_type": "code",
   "execution_count": 4,
   "id": "b7d57ecd-4abe-4ce4-bcb0-16963b75cf6d",
   "metadata": {},
   "outputs": [
    {
     "name": "stdout",
     "output_type": "stream",
     "text": [
      "['hello my name is vikash kushwaha\\n', 'how are you\\n', 'i am fine']\n"
     ]
    }
   ],
   "source": [
    "f=open(\"vikas.txt\",\"r\")\n",
    "fl=f.read()\n",
    "print(fl)\n",
    "f.close()"
   ]
  },
  {
   "cell_type": "code",
   "execution_count": null,
   "id": "b1e797e0-eaf1-4100-9dda-4d93364b564d",
   "metadata": {},
   "outputs": [],
   "source": []
  }
 ],
 "metadata": {
  "kernelspec": {
   "display_name": "Python 3 (ipykernel)",
   "language": "python",
   "name": "python3"
  },
  "language_info": {
   "codemirror_mode": {
    "name": "ipython",
    "version": 3
   },
   "file_extension": ".py",
   "mimetype": "text/x-python",
   "name": "python",
   "nbconvert_exporter": "python",
   "pygments_lexer": "ipython3",
   "version": "3.12.7"
  }
 },
 "nbformat": 4,
 "nbformat_minor": 5
}
