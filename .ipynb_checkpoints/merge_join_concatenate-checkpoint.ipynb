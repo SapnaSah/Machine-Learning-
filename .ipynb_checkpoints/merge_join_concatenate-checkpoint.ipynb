{
 "cells": [
  {
   "cell_type": "code",
   "execution_count": 1,
   "id": "c4895fd0-2c48-48bc-ae63-5055b1ff1064",
   "metadata": {},
   "outputs": [
    {
     "name": "stdout",
     "output_type": "stream",
     "text": [
      "sapna\n"
     ]
    }
   ],
   "source": [
    "print(\"sapna\")"
   ]
  },
  {
   "cell_type": "code",
   "execution_count": 3,
   "id": "ea1223b3-54e8-468b-9209-9bb44a052979",
   "metadata": {},
   "outputs": [
    {
     "name": "stdout",
     "output_type": "stream",
     "text": [
      "  emp_id     name  age\n",
      "0   emp1   vikash   20\n",
      "1   emp2    sapna   22\n",
      "2   emp3      ram   34\n",
      "3   emp4    shyam   45\n",
      "4   emp5     sita   23\n",
      "5   emp6    reeta   30\n",
      "6   emp7  krishna   31\n",
      "7   emp8   raghav   25\n",
      "8   emp9  hanuman   29\n",
      "9  emp10  harsita   28\n",
      "  emp_id  sallary\n",
      "0   emp1    50000\n",
      "1   emp2    80000\n",
      "2  emp13    90000\n",
      "3   emp4    50000\n",
      "4  emp24    40000\n",
      "5   emp6    50000\n",
      "6   emp7    60000\n",
      "7  emp18    70000\n",
      "8   emp9    40000\n",
      "9  emp10    70000\n"
     ]
    }
   ],
   "source": [
    "import pandas as pd\n",
    "data1={\"emp_id\":[\"emp1\",\"emp2\",\"emp3\",\"emp4\",\"emp5\",\"emp6\",\"emp7\",\"emp8\",\"emp9\",\"emp10\"],\n",
    "       \"name\":[\"vikash\",\"sapna\",\"ram\",\"shyam\",\"sita\",\"reeta\",\"krishna\",\"raghav\",\"hanuman\",\"harsita\"],\n",
    "       \"age\":[20,22,34,45,23,30,31,25,29,28]}\n",
    "data2={\"emp_id\":[\"emp1\",\"emp2\",\"emp13\",\"emp4\",\"emp24\",\"emp6\",\"emp7\",\"emp18\",\"emp9\",\"emp10\"],\n",
    "       \"sallary\":[50000,80000,90000,50000,40000,50000,60000,70000,40000,70000]}\n",
    "df1=pd.DataFrame(data1)\n",
    "df2=pd.DataFrame(data2)\n",
    "print(df1)\n",
    "print(df2)\n",
    "            "
   ]
  },
  {
   "cell_type": "code",
   "execution_count": 4,
   "id": "6e8cc0f0-567e-4e3e-8385-f570a5f51270",
   "metadata": {},
   "outputs": [
    {
     "name": "stdout",
     "output_type": "stream",
     "text": [
      "  emp_id     name  age\n",
      "0   emp1   vikash   20\n",
      "1   emp2    sapna   22\n",
      "2   emp3      ram   34\n",
      "3   emp4    shyam   45\n",
      "4   emp5     sita   23\n",
      "5   emp6    reeta   30\n",
      "6   emp7  krishna   31\n",
      "7   emp8   raghav   25\n",
      "8   emp9  hanuman   29\n",
      "9  emp10  harsita   28\n",
      "\n",
      "  emp_id  sallary\n",
      "0   emp1    50000\n",
      "1   emp2    80000\n",
      "2  emp13    90000\n",
      "3   emp4    50000\n",
      "4  emp24    40000\n",
      "5   emp6    50000\n",
      "6   emp7    60000\n",
      "7  emp18    70000\n",
      "8   emp9    40000\n",
      "9  emp10    70000\n"
     ]
    }
   ],
   "source": [
    "data1={\"emp_id\":[\"emp1\",\"emp2\",\"emp3\",\"emp4\",\"emp5\",\"emp6\",\"emp7\",\"emp8\",\"emp9\",\"emp10\"],\n",
    "       \"name\":[\"vikash\",\"sapna\",\"ram\",\"shyam\",\"sita\",\"reeta\",\"krishna\",\"raghav\",\"hanuman\",\"harsita\"],\n",
    "       \"age\":[20,22,34,45,23,30,31,25,29,28]}\n",
    "data2={\"emp_id\":[\"emp1\",\"emp2\",\"emp13\",\"emp4\",\"emp24\",\"emp6\",\"emp7\",\"emp18\",\"emp9\",\"emp10\"],\n",
    "       \"sallary\":[50000,80000,90000,50000,40000,50000,60000,70000,40000,70000]}\n",
    "df1=pd.DataFrame(data1)\n",
    "df2=pd.DataFrame(data2)\n",
    "print(df1)\n",
    "print()     #space between df1 and df2.\n",
    "print(df2)"
   ]
  },
  {
   "cell_type": "code",
   "execution_count": 5,
   "id": "480d9abe-d05a-4191-ba60-1dc601e787b4",
   "metadata": {},
   "outputs": [
    {
     "name": "stdout",
     "output_type": "stream",
     "text": [
      "  emp_id     name  age  sallary\n",
      "0   emp1   vikash   20    50000\n",
      "1   emp2    sapna   22    80000\n",
      "2   emp4    shyam   45    50000\n",
      "3   emp6    reeta   30    50000\n",
      "4   emp7  krishna   31    60000\n",
      "5   emp9  hanuman   29    40000\n",
      "6  emp10  harsita   28    70000\n"
     ]
    }
   ],
   "source": [
    "print(pd.merge(df1,df2,on=\"emp_id\"))"
   ]
  },
  {
   "cell_type": "code",
   "execution_count": 6,
   "id": "04aff1d0-b0a2-4aa4-bc72-14a1b6c77d9a",
   "metadata": {},
   "outputs": [
    {
     "name": "stdout",
     "output_type": "stream",
     "text": [
      "  emp_id     name  age  sallary\n",
      "0   emp1   vikash   20  50000.0\n",
      "1   emp2    sapna   22  80000.0\n",
      "2   emp3      ram   34      NaN\n",
      "3   emp4    shyam   45  50000.0\n",
      "4   emp5     sita   23      NaN\n",
      "5   emp6    reeta   30  50000.0\n",
      "6   emp7  krishna   31  60000.0\n",
      "7   emp8   raghav   25      NaN\n",
      "8   emp9  hanuman   29  40000.0\n",
      "9  emp10  harsita   28  70000.0\n"
     ]
    }
   ],
   "source": [
    "print(pd.merge(left=df1,right=df2,on=\"emp_id\",how=\"left\"))"
   ]
  },
  {
   "cell_type": "code",
   "execution_count": 7,
   "id": "73dcf93d-9414-4336-b585-02914b170f81",
   "metadata": {},
   "outputs": [
    {
     "name": "stdout",
     "output_type": "stream",
     "text": [
      "  emp_id     name   age  sallary\n",
      "0   emp1   vikash  20.0    50000\n",
      "1   emp2    sapna  22.0    80000\n",
      "2  emp13      NaN   NaN    90000\n",
      "3   emp4    shyam  45.0    50000\n",
      "4  emp24      NaN   NaN    40000\n",
      "5   emp6    reeta  30.0    50000\n",
      "6   emp7  krishna  31.0    60000\n",
      "7  emp18      NaN   NaN    70000\n",
      "8   emp9  hanuman  29.0    40000\n",
      "9  emp10  harsita  28.0    70000\n"
     ]
    }
   ],
   "source": [
    "print(pd.merge(left=df1,right=df2,on=\"emp_id\",how=\"right\"))"
   ]
  },
  {
   "cell_type": "code",
   "execution_count": 25,
   "id": "dfaf7b65-f46f-41f4-a968-094fa4695a33",
   "metadata": {},
   "outputs": [
    {
     "name": "stdout",
     "output_type": "stream",
     "text": [
      "           name  age  sallary\n",
      "emp_id                       \n",
      "emp1     vikash   20    50000\n",
      "emp2      sapna   22    80000\n",
      "emp4      shyam   45    50000\n",
      "emp6      reeta   30    50000\n",
      "emp7    krishna   31    60000\n",
      "emp9    hanuman   29    40000\n",
      "emp10   harsita   28    70000\n"
     ]
    }
   ],
   "source": [
    "# print(df1.join(df1,df2,on=\"emp_id\"))\n",
    "\n",
    "df1_indexed = df1.set_index(\"emp_id\")\n",
    "df2_indexed = df2.set_index(\"emp_id\")\n",
    "\n",
    "result = df1_indexed.join(df2_indexed, how=\"inner\")\n",
    "print(result)"
   ]
  },
  {
   "cell_type": "code",
   "execution_count": 21,
   "id": "76e03d50-0b9a-474c-bd62-1ee7d0d3c2ce",
   "metadata": {},
   "outputs": [
    {
     "name": "stdout",
     "output_type": "stream",
     "text": [
      "  emp_id     name  age\n",
      "0   emp1   vikash   20\n",
      "1   emp2    sapna   22\n",
      "2   emp3      ram   34\n",
      "3   emp4    shyam   45\n",
      "4   emp5     sita   23\n",
      "5   emp6    reeta   30\n",
      "6   emp7  krishna   31\n",
      "7   emp8   raghav   25\n",
      "8   emp9  hanuman   29\n",
      "9  emp10  harsita   28\n",
      "  emp_id name  age\n",
      "0  emp11  sap   23\n",
      "1  emp12  rap   45\n",
      "2  emp13  tap   34\n",
      "3  emp14  lap   31\n",
      "4  emp15  hap   34\n",
      "5  emp16  jap   35\n",
      "6  emp17  yap   41\n",
      "7  emp18  kap   41\n",
      "8  emp19  dap   15\n",
      "9  emp20  fap   33\n"
     ]
    }
   ],
   "source": [
    "data1={\"emp_id\":[\"emp1\",\"emp2\",\"emp3\",\"emp4\",\"emp5\",\"emp6\",\"emp7\",\"emp8\",\"emp9\",\"emp10\"],\n",
    "       \"name\":[\"vikash\",\"sapna\",\"ram\",\"shyam\",\"sita\",\"reeta\",\"krishna\",\"raghav\",\"hanuman\",\"harsita\"],\n",
    "       \"age\":[20,22,34,45,23,30,31,25,29,28]}\n",
    "data2={\"emp_id\":[\"emp11\",\"emp12\",\"emp13\",\"emp14\",\"emp15\",\"emp16\",\"emp17\",\"emp18\",\"emp19\",\"emp20\"],\n",
    "       \"name\":[\"sap\",\"rap\",\"tap\",\"lap\",\"hap\",\"jap\",\"yap\",\"kap\",\"dap\",\"fap\"],\n",
    "       \"age\":[23,45,34,31,34,35,41,41,15,33]}\n",
    "df1=pd.DataFrame(data1)\n",
    "df2=pd.DataFrame(data2)\n",
    "print(df1)\n",
    "print(df2)\n",
    "      "
   ]
  },
  {
   "cell_type": "code",
   "execution_count": null,
   "id": "57c353b0-58c3-4588-b9c4-f6fb976ac1cb",
   "metadata": {},
   "outputs": [],
   "source": [
    "print(pd.concat(["
   ]
  }
 ],
 "metadata": {
  "kernelspec": {
   "display_name": "Python 3 (ipykernel)",
   "language": "python",
   "name": "python3"
  },
  "language_info": {
   "codemirror_mode": {
    "name": "ipython",
    "version": 3
   },
   "file_extension": ".py",
   "mimetype": "text/x-python",
   "name": "python",
   "nbconvert_exporter": "python",
   "pygments_lexer": "ipython3",
   "version": "3.12.7"
  }
 },
 "nbformat": 4,
 "nbformat_minor": 5
}
