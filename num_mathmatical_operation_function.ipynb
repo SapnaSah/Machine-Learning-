{
 "cells": [
  {
   "cell_type": "code",
   "execution_count": 9,
   "id": "a71edd58-821e-403e-b4d4-d914fe4fe7a3",
   "metadata": {},
   "outputs": [
    {
     "name": "stdout",
     "output_type": "stream",
     "text": [
      "[ 80 100 120 140]\n",
      "[ 80 100 120 140]\n"
     ]
    }
   ],
   "source": [
    "import numpy as np\n",
    "a=np.array([20,30,40,50])\n",
    "b=np.array([60,70,80,90])\n",
    "print(a+b)\n",
    "print(np.add(a,b)) "
   ]
  },
  {
   "cell_type": "code",
   "execution_count": 12,
   "id": "513930aa-9115-45e6-b4f3-1d2020e0ab1a",
   "metadata": {},
   "outputs": [
    {
     "name": "stdout",
     "output_type": "stream",
     "text": [
      "[-40 -40 -40 -40]\n",
      "[-40 -40 -40 -40]\n"
     ]
    }
   ],
   "source": [
    "a=np.array([20,30,40,50])\n",
    "b=np.array([60,70,80,90])\n",
    "print(a-b)\n",
    "print(np.subtract(a,b))"
   ]
  },
  {
   "cell_type": "code",
   "execution_count": 13,
   "id": "bba254d9-ec9e-4fb6-af21-f623e234be59",
   "metadata": {},
   "outputs": [
    {
     "name": "stdout",
     "output_type": "stream",
     "text": [
      "[1200 2100 3200 4500]\n",
      "[1200 2100 3200 4500]\n"
     ]
    }
   ],
   "source": [
    "a=np.array([20,30,40,50])\n",
    "b=np.array([60,70,80,90])\n",
    "print(a*b)\n",
    "print(np.multiply(a,b))"
   ]
  },
  {
   "cell_type": "code",
   "execution_count": 14,
   "id": "168e1d77-2397-4813-9690-d5af46d495aa",
   "metadata": {},
   "outputs": [
    {
     "name": "stdout",
     "output_type": "stream",
     "text": [
      "[0.33333333 0.42857143 0.5        0.55555556]\n",
      "[0.33333333 0.42857143 0.5        0.55555556]\n"
     ]
    }
   ],
   "source": [
    "a=np.array([20,30,40,50])\n",
    "b=np.array([60,70,80,90])\n",
    "print(a/b)\n",
    "print(np.divide(a,b))"
   ]
  },
  {
   "cell_type": "code",
   "execution_count": 15,
   "id": "08ad526d-9140-4376-8496-c06374e39bd5",
   "metadata": {},
   "outputs": [
    {
     "name": "stdout",
     "output_type": "stream",
     "text": [
      "[  8000  27000  64000 125000]\n"
     ]
    }
   ],
   "source": [
    "a=np.array([20,30,40,50])\n",
    "b=np.array([3])\n",
    "print(np.power(a,b))"
   ]
  },
  {
   "cell_type": "code",
   "execution_count": 16,
   "id": "3ac061ae-3cfc-45bb-b913-86c481143420",
   "metadata": {},
   "outputs": [
    {
     "name": "stdout",
     "output_type": "stream",
     "text": [
      "[ 4  9 16 25]\n"
     ]
    }
   ],
   "source": [
    "a=np.array([2,3,4,5])\n",
    "b=np.array([2])\n",
    "print(np.power(a,b))"
   ]
  },
  {
   "cell_type": "code",
   "execution_count": 19,
   "id": "b1c32df6-5a86-4f0a-bcc8-67999b287b2c",
   "metadata": {},
   "outputs": [
    {
     "name": "stdout",
     "output_type": "stream",
     "text": [
      "[2. 3. 4. 5.]\n"
     ]
    }
   ],
   "source": [
    " a=np.array([ 4,9,16,25])\n",
    "print(np.sqrt(a))"
   ]
  },
  {
   "cell_type": "code",
   "execution_count": null,
   "id": "025562d1-1462-4105-80cb-f5812579d0f4",
   "metadata": {},
   "outputs": [],
   "source": []
  }
 ],
 "metadata": {
  "kernelspec": {
   "display_name": "Python 3 (ipykernel)",
   "language": "python",
   "name": "python3"
  },
  "language_info": {
   "codemirror_mode": {
    "name": "ipython",
    "version": 3
   },
   "file_extension": ".py",
   "mimetype": "text/x-python",
   "name": "python",
   "nbconvert_exporter": "python",
   "pygments_lexer": "ipython3",
   "version": "3.12.7"
  }
 },
 "nbformat": 4,
 "nbformat_minor": 5
}
