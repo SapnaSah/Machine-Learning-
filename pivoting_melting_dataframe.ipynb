{
 "cells": [
  {
   "cell_type": "code",
   "execution_count": 1,
   "id": "8be650b6-8eaa-40f5-8730-3135fcccf805",
   "metadata": {},
   "outputs": [
    {
     "name": "stdout",
     "output_type": "stream",
     "text": [
      "ram\n"
     ]
    }
   ],
   "source": [
    "print(\"ram\")"
   ]
  },
  {
   "cell_type": "code",
   "execution_count": 17,
   "id": "372ca4d1-b8f6-47f6-aca2-8a072fdca3c2",
   "metadata": {},
   "outputs": [
    {
     "name": "stdout",
     "output_type": "stream",
     "text": [
      "  keys    name  house grade\n",
      "0   k1   sapna    red   5th\n",
      "1   k2  vikash   blue   6th\n",
      "2   k3    john  green   9th\n",
      "3   k4     ben    red   7th\n",
      "4   k5   david  white   8th\n"
     ]
    },
    {
     "ename": "TypeError",
     "evalue": "DataFrame.pivot() got an unexpected keyword argument 'value'",
     "output_type": "error",
     "traceback": [
      "\u001b[1;31m---------------------------------------------------------------------------\u001b[0m",
      "\u001b[1;31mTypeError\u001b[0m                                 Traceback (most recent call last)",
      "Cell \u001b[1;32mIn[17], line 8\u001b[0m\n\u001b[0;32m      6\u001b[0m df\u001b[38;5;241m=\u001b[39mpd\u001b[38;5;241m.\u001b[39mDataFrame(\u001b[38;5;28mdict\u001b[39m)\n\u001b[0;32m      7\u001b[0m \u001b[38;5;28mprint\u001b[39m(df)\n\u001b[1;32m----> 8\u001b[0m \u001b[38;5;28mprint\u001b[39m(df\u001b[38;5;241m.\u001b[39mpivot(index\u001b[38;5;241m=\u001b[39m\u001b[38;5;124m\"\u001b[39m\u001b[38;5;124mkeys\u001b[39m\u001b[38;5;124m\"\u001b[39m,columns\u001b[38;5;241m=\u001b[39m\u001b[38;5;124m\"\u001b[39m\u001b[38;5;124mname\u001b[39m\u001b[38;5;124m\"\u001b[39m,value\u001b[38;5;241m=\u001b[39m[\u001b[38;5;124m\"\u001b[39m\u001b[38;5;124mhouse\u001b[39m\u001b[38;5;124m\"\u001b[39m,\u001b[38;5;124m\"\u001b[39m\u001b[38;5;124mgrade\u001b[39m\u001b[38;5;124m\"\u001b[39m]))\n",
      "\u001b[1;31mTypeError\u001b[0m: DataFrame.pivot() got an unexpected keyword argument 'value'"
     ]
    }
   ],
   "source": [
    "import pandas as pd\n",
    "dict={\"keys\":[\"k1\",\"k2\",\"k3\",\"k4\",\"k5\"],\n",
    "      \"name\":[\"sapna\",\"vikash\",\"john\",\"ben\",\"david\"],\n",
    "      \"house\":[\"red\",\"blue\",\"green\",\"red\",\"white\"],\n",
    "      \"grade\":[\"5th\",\"6th\",\"9th\",\"7th\",\"8th\"]}\n",
    "df=pd.DataFrame(dict)\n",
    "print(df)\n"
   ]
  },
  {
   "cell_type": "code",
   "execution_count": 16,
   "id": "f9ae0a0f-1782-4e0f-9002-a42503dbaa1e",
   "metadata": {},
   "outputs": [
    {
     "ename": "TypeError",
     "evalue": "DataFrame.pivot() got an unexpected keyword argument 'value'",
     "output_type": "error",
     "traceback": [
      "\u001b[1;31m---------------------------------------------------------------------------\u001b[0m",
      "\u001b[1;31mTypeError\u001b[0m                                 Traceback (most recent call last)",
      "Cell \u001b[1;32mIn[16], line 1\u001b[0m\n\u001b[1;32m----> 1\u001b[0m \u001b[38;5;28mprint\u001b[39m(df\u001b[38;5;241m.\u001b[39mpivot(index\u001b[38;5;241m=\u001b[39m\u001b[38;5;124m\"\u001b[39m\u001b[38;5;124mkeys\u001b[39m\u001b[38;5;124m\"\u001b[39m,columns\u001b[38;5;241m=\u001b[39m\u001b[38;5;124m\"\u001b[39m\u001b[38;5;124mname\u001b[39m\u001b[38;5;124m\"\u001b[39m,value\u001b[38;5;241m=\u001b[39m[\u001b[38;5;124m\"\u001b[39m\u001b[38;5;124mhouse\u001b[39m\u001b[38;5;124m\"\u001b[39m,\u001b[38;5;124m\"\u001b[39m\u001b[38;5;124mgrade\u001b[39m\u001b[38;5;124m\"\u001b[39m]))\n",
      "\u001b[1;31mTypeError\u001b[0m: DataFrame.pivot() got an unexpected keyword argument 'value'"
     ]
    }
   ],
   "source": [
    "print(df.pivot(index=\"keys\",columns=\"name\",value=[\"house\",\"grade\"]))"
   ]
  },
  {
   "cell_type": "code",
   "execution_count": 12,
   "id": "42460347-fb2a-4531-9529-b61a024f6be1",
   "metadata": {},
   "outputs": [
    {
     "name": "stdout",
     "output_type": "stream",
     "text": [
      "     name  house grade\n",
      "0   sapna    red   5th\n",
      "1  vikash   blue   6th\n",
      "2    john  green   9th\n",
      "3     ben    red   7th\n",
      "4   david  white   8th\n"
     ]
    },
    {
     "ename": "TypeError",
     "evalue": "melt() got an unexpected keyword argument 'values_vars'",
     "output_type": "error",
     "traceback": [
      "\u001b[1;31m---------------------------------------------------------------------------\u001b[0m",
      "\u001b[1;31mTypeError\u001b[0m                                 Traceback (most recent call last)",
      "Cell \u001b[1;32mIn[12], line 6\u001b[0m\n\u001b[0;32m      4\u001b[0m df\u001b[38;5;241m=\u001b[39mpd\u001b[38;5;241m.\u001b[39mDataFrame(\u001b[38;5;28mdict\u001b[39m)\n\u001b[0;32m      5\u001b[0m \u001b[38;5;28mprint\u001b[39m(df)\n\u001b[1;32m----> 6\u001b[0m \u001b[38;5;28mprint\u001b[39m(pd\u001b[38;5;241m.\u001b[39mmelt(df,id_vars\u001b[38;5;241m=\u001b[39m[\u001b[38;5;124m\"\u001b[39m\u001b[38;5;124mname\u001b[39m\u001b[38;5;124m\"\u001b[39m],values_vars\u001b[38;5;241m=\u001b[39m[\u001b[38;5;124m\"\u001b[39m\u001b[38;5;124mhouse\u001b[39m\u001b[38;5;124m\"\u001b[39m,\u001b[38;5;124m\"\u001b[39m\u001b[38;5;124mgrade\u001b[39m\u001b[38;5;124m\"\u001b[39m]))\n",
      "\u001b[1;31mTypeError\u001b[0m: melt() got an unexpected keyword argument 'values_vars'"
     ]
    }
   ],
   "source": [
    "dict={ \"name\":[\"sapna\",\"vikash\",\"john\",\"ben\",\"david\"],\n",
    "      \"house\":[\"red\",\"blue\",\"green\",\"red\",\"white\"],\n",
    "      \"grade\":[\"5th\",\"6th\",\"9th\",\"7th\",\"8th\"]}\n",
    "df=pd.DataFrame(dict)\n",
    "print(df)\n",
    "print(pd.melt(df,id_vars=[\"name\"],values_vars=[\"house\",\"grade\"]))"
   ]
  },
  {
   "cell_type": "code",
   "execution_count": null,
   "id": "0b28c6e4-6823-4906-a8d5-b51d4f74a7b0",
   "metadata": {},
   "outputs": [],
   "source": []
  }
 ],
 "metadata": {
  "kernelspec": {
   "display_name": "Python 3 (ipykernel)",
   "language": "python",
   "name": "python3"
  },
  "language_info": {
   "codemirror_mode": {
    "name": "ipython",
    "version": 3
   },
   "file_extension": ".py",
   "mimetype": "text/x-python",
   "name": "python",
   "nbconvert_exporter": "python",
   "pygments_lexer": "ipython3",
   "version": "3.12.7"
  }
 },
 "nbformat": 4,
 "nbformat_minor": 5
}
